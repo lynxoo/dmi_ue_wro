{
  "nbformat": 4,
  "nbformat_minor": 0,
  "metadata": {
    "colab": {
      "name": "Zadania.ipynb",
      "provenance": [],
      "collapsed_sections": [],
      "toc_visible": true,
      "include_colab_link": true
    },
    "kernelspec": {
      "name": "python3",
      "display_name": "Python 3"
    }
  },
  "cells": [
    {
      "cell_type": "markdown",
      "metadata": {
        "id": "view-in-github",
        "colab_type": "text"
      },
      "source": [
        "<a href=\"https://colab.research.google.com/github/lynxoo/dmi_ue_wro/blob/master/lab-1.ipynb\" target=\"_parent\"><img src=\"https://colab.research.google.com/assets/colab-badge.svg\" alt=\"Open In Colab\"/></a>"
      ]
    },
    {
      "cell_type": "markdown",
      "metadata": {
        "id": "9JIn182efNBr",
        "colab_type": "text"
      },
      "source": [
        "# Lab I - Zadania do zrobienia"
      ]
    },
    {
      "cell_type": "markdown",
      "metadata": {
        "id": "ZeJaWcbLfd_L",
        "colab_type": "text"
      },
      "source": [
        "## Zadania na zbiorze Iris:\n",
        "\n",
        "- Zwizualizuj rozkłady wybranych cech dla każdego gatunku (species) irysów z osobna.\n",
        "\n",
        "- Przelicz ile przykładów irysów ma płatki dłuższe, niż średnia długość płatka (petal length (cm))."
      ]
    },
    {
      "cell_type": "markdown",
      "metadata": {
        "colab_type": "text",
        "id": "DGBJs9edmfhs"
      },
      "source": [
        "## Zadania na zbiorze Titanic:\n",
        "\n",
        "Wczytaj zbiór titanic z adresu https://raw.githubusercontent.com/aniku10/dataMining/master/titanic.csv\n",
        "\n",
        "Wyświetl fragment wczytanego zbioru (kilka pierwszych i ostatnich wierszy)\n",
        "\n",
        "Ustal:\n",
        "\n",
        "- co oznaczają odpowiednie kolumny\n",
        "- jakie typy danych występują w zbiorze\n",
        "- czy w zbiorze występują brakujące dane (NaN)\n",
        "- Zwizualizuj rozkłady cech w zbiorze\n",
        "- zwróć uwagę na rozkład wieku pasażerów, w zależności od tego czy przeżyli, czy zginęli"
      ]
    }
  ]
}