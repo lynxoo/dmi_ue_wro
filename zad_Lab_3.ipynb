{
  "nbformat": 4,
  "nbformat_minor": 0,
  "metadata": {
    "colab": {
      "name": "Zadanie_Lab_2.ipynb",
      "provenance": [],
      "collapsed_sections": [],
      "include_colab_link": true
    },
    "kernelspec": {
      "name": "python3",
      "display_name": "Python 3"
    }
  },
  "cells": [
    {
      "cell_type": "markdown",
      "metadata": {
        "id": "view-in-github",
        "colab_type": "text"
      },
      "source": [
        "<a href=\"https://colab.research.google.com/github/lynxoo/dmi_ue_wro/blob/master/zad_Lab_3.ipynb\" target=\"_parent\"><img src=\"https://colab.research.google.com/assets/colab-badge.svg\" alt=\"Open In Colab\"/></a>"
      ]
    },
    {
      "cell_type": "markdown",
      "metadata": {
        "id": "dJAOKeO8wDND",
        "colab_type": "text"
      },
      "source": [
        "*  Odpowiedz na pytania:\n",
        "  *   które składniki są najbardziej powiązane z jakością wina?\n",
        "  *   czy istnieją jakieś zależności między składnikami?\n",
        "\n",
        "* Zaproponuj listę cech, które powinny wziąć udział w klasyfikacji win \n",
        "\n"
      ]
    },
    {
      "cell_type": "markdown",
      "metadata": {
        "id": "txhOkDJ6d9PU",
        "colab_type": "text"
      },
      "source": [
        "##Wczytaj zbiór Wine Quality \n",
        "link: https://raw.githubusercontent.com/aniku10/dataMining/master/winequality-red.csv - (; separated)"
      ]
    },
    {
      "cell_type": "code",
      "metadata": {
        "id": "dqxYOqnhdiZ1",
        "colab_type": "code",
        "colab": {}
      },
      "source": [
        "import pandas as pd\n",
        "dataset_link = 'https://raw.githubusercontent.com/aniku10/dataMining/master/winequality-red.csv'\n",
        "wine_quality = pd.read_csv(dataset_link, sep=';')"
      ],
      "execution_count": 106,
      "outputs": []
    },
    {
      "cell_type": "markdown",
      "metadata": {
        "id": "7KPrl9U4eH95",
        "colab_type": "text"
      },
      "source": [
        "##Zapoznaj się ze zbiorem, jakie cechy opisują wino.\n",
        "Wyświetlenie danych"
      ]
    },
    {
      "cell_type": "code",
      "metadata": {
        "id": "F1-56p6LeR0e",
        "colab_type": "code",
        "colab": {
          "base_uri": "https://localhost:8080/",
          "height": 376
        },
        "outputId": "377d440e-372a-4d36-a0d9-af693b8ca483"
      },
      "source": [
        "wine_quality.head(10)"
      ],
      "execution_count": 107,
      "outputs": [
        {
          "output_type": "execute_result",
          "data": {
            "text/html": [
              "<div>\n",
              "<style scoped>\n",
              "    .dataframe tbody tr th:only-of-type {\n",
              "        vertical-align: middle;\n",
              "    }\n",
              "\n",
              "    .dataframe tbody tr th {\n",
              "        vertical-align: top;\n",
              "    }\n",
              "\n",
              "    .dataframe thead th {\n",
              "        text-align: right;\n",
              "    }\n",
              "</style>\n",
              "<table border=\"1\" class=\"dataframe\">\n",
              "  <thead>\n",
              "    <tr style=\"text-align: right;\">\n",
              "      <th></th>\n",
              "      <th>fixed acidity</th>\n",
              "      <th>volatile acidity</th>\n",
              "      <th>citric acid</th>\n",
              "      <th>residual sugar</th>\n",
              "      <th>chlorides</th>\n",
              "      <th>free sulfur dioxide</th>\n",
              "      <th>total sulfur dioxide</th>\n",
              "      <th>density</th>\n",
              "      <th>pH</th>\n",
              "      <th>sulphates</th>\n",
              "      <th>alcohol</th>\n",
              "      <th>quality</th>\n",
              "    </tr>\n",
              "  </thead>\n",
              "  <tbody>\n",
              "    <tr>\n",
              "      <th>0</th>\n",
              "      <td>7.4</td>\n",
              "      <td>0.70</td>\n",
              "      <td>0.00</td>\n",
              "      <td>1.9</td>\n",
              "      <td>0.076</td>\n",
              "      <td>11.0</td>\n",
              "      <td>34.0</td>\n",
              "      <td>0.9978</td>\n",
              "      <td>3.51</td>\n",
              "      <td>0.56</td>\n",
              "      <td>9.4</td>\n",
              "      <td>5</td>\n",
              "    </tr>\n",
              "    <tr>\n",
              "      <th>1</th>\n",
              "      <td>7.8</td>\n",
              "      <td>0.88</td>\n",
              "      <td>0.00</td>\n",
              "      <td>2.6</td>\n",
              "      <td>0.098</td>\n",
              "      <td>25.0</td>\n",
              "      <td>67.0</td>\n",
              "      <td>0.9968</td>\n",
              "      <td>3.20</td>\n",
              "      <td>0.68</td>\n",
              "      <td>9.8</td>\n",
              "      <td>5</td>\n",
              "    </tr>\n",
              "    <tr>\n",
              "      <th>2</th>\n",
              "      <td>7.8</td>\n",
              "      <td>0.76</td>\n",
              "      <td>0.04</td>\n",
              "      <td>2.3</td>\n",
              "      <td>0.092</td>\n",
              "      <td>15.0</td>\n",
              "      <td>54.0</td>\n",
              "      <td>0.9970</td>\n",
              "      <td>3.26</td>\n",
              "      <td>0.65</td>\n",
              "      <td>9.8</td>\n",
              "      <td>5</td>\n",
              "    </tr>\n",
              "    <tr>\n",
              "      <th>3</th>\n",
              "      <td>11.2</td>\n",
              "      <td>0.28</td>\n",
              "      <td>0.56</td>\n",
              "      <td>1.9</td>\n",
              "      <td>0.075</td>\n",
              "      <td>17.0</td>\n",
              "      <td>60.0</td>\n",
              "      <td>0.9980</td>\n",
              "      <td>3.16</td>\n",
              "      <td>0.58</td>\n",
              "      <td>9.8</td>\n",
              "      <td>6</td>\n",
              "    </tr>\n",
              "    <tr>\n",
              "      <th>4</th>\n",
              "      <td>7.4</td>\n",
              "      <td>0.70</td>\n",
              "      <td>0.00</td>\n",
              "      <td>1.9</td>\n",
              "      <td>0.076</td>\n",
              "      <td>11.0</td>\n",
              "      <td>34.0</td>\n",
              "      <td>0.9978</td>\n",
              "      <td>3.51</td>\n",
              "      <td>0.56</td>\n",
              "      <td>9.4</td>\n",
              "      <td>5</td>\n",
              "    </tr>\n",
              "    <tr>\n",
              "      <th>5</th>\n",
              "      <td>7.4</td>\n",
              "      <td>0.66</td>\n",
              "      <td>0.00</td>\n",
              "      <td>1.8</td>\n",
              "      <td>0.075</td>\n",
              "      <td>13.0</td>\n",
              "      <td>40.0</td>\n",
              "      <td>0.9978</td>\n",
              "      <td>3.51</td>\n",
              "      <td>0.56</td>\n",
              "      <td>9.4</td>\n",
              "      <td>5</td>\n",
              "    </tr>\n",
              "    <tr>\n",
              "      <th>6</th>\n",
              "      <td>7.9</td>\n",
              "      <td>0.60</td>\n",
              "      <td>0.06</td>\n",
              "      <td>1.6</td>\n",
              "      <td>0.069</td>\n",
              "      <td>15.0</td>\n",
              "      <td>59.0</td>\n",
              "      <td>0.9964</td>\n",
              "      <td>3.30</td>\n",
              "      <td>0.46</td>\n",
              "      <td>9.4</td>\n",
              "      <td>5</td>\n",
              "    </tr>\n",
              "    <tr>\n",
              "      <th>7</th>\n",
              "      <td>7.3</td>\n",
              "      <td>0.65</td>\n",
              "      <td>0.00</td>\n",
              "      <td>1.2</td>\n",
              "      <td>0.065</td>\n",
              "      <td>15.0</td>\n",
              "      <td>21.0</td>\n",
              "      <td>0.9946</td>\n",
              "      <td>3.39</td>\n",
              "      <td>0.47</td>\n",
              "      <td>10.0</td>\n",
              "      <td>7</td>\n",
              "    </tr>\n",
              "    <tr>\n",
              "      <th>8</th>\n",
              "      <td>7.8</td>\n",
              "      <td>0.58</td>\n",
              "      <td>0.02</td>\n",
              "      <td>2.0</td>\n",
              "      <td>0.073</td>\n",
              "      <td>9.0</td>\n",
              "      <td>18.0</td>\n",
              "      <td>0.9968</td>\n",
              "      <td>3.36</td>\n",
              "      <td>0.57</td>\n",
              "      <td>9.5</td>\n",
              "      <td>7</td>\n",
              "    </tr>\n",
              "    <tr>\n",
              "      <th>9</th>\n",
              "      <td>7.5</td>\n",
              "      <td>0.50</td>\n",
              "      <td>0.36</td>\n",
              "      <td>6.1</td>\n",
              "      <td>0.071</td>\n",
              "      <td>17.0</td>\n",
              "      <td>102.0</td>\n",
              "      <td>0.9978</td>\n",
              "      <td>3.35</td>\n",
              "      <td>0.80</td>\n",
              "      <td>10.5</td>\n",
              "      <td>5</td>\n",
              "    </tr>\n",
              "  </tbody>\n",
              "</table>\n",
              "</div>"
            ],
            "text/plain": [
              "   fixed acidity  volatile acidity  citric acid  ...  sulphates  alcohol  quality\n",
              "0            7.4              0.70         0.00  ...       0.56      9.4        5\n",
              "1            7.8              0.88         0.00  ...       0.68      9.8        5\n",
              "2            7.8              0.76         0.04  ...       0.65      9.8        5\n",
              "3           11.2              0.28         0.56  ...       0.58      9.8        6\n",
              "4            7.4              0.70         0.00  ...       0.56      9.4        5\n",
              "5            7.4              0.66         0.00  ...       0.56      9.4        5\n",
              "6            7.9              0.60         0.06  ...       0.46      9.4        5\n",
              "7            7.3              0.65         0.00  ...       0.47     10.0        7\n",
              "8            7.8              0.58         0.02  ...       0.57      9.5        7\n",
              "9            7.5              0.50         0.36  ...       0.80     10.5        5\n",
              "\n",
              "[10 rows x 12 columns]"
            ]
          },
          "metadata": {
            "tags": []
          },
          "execution_count": 107
        }
      ]
    },
    {
      "cell_type": "code",
      "metadata": {
        "id": "Yp_gwADgjocv",
        "colab_type": "code",
        "colab": {
          "base_uri": "https://localhost:8080/",
          "height": 376
        },
        "outputId": "1e25ccc2-fc90-4f26-ef14-c82b99b2e167"
      },
      "source": [
        "wine_quality.tail(10)"
      ],
      "execution_count": 108,
      "outputs": [
        {
          "output_type": "execute_result",
          "data": {
            "text/html": [
              "<div>\n",
              "<style scoped>\n",
              "    .dataframe tbody tr th:only-of-type {\n",
              "        vertical-align: middle;\n",
              "    }\n",
              "\n",
              "    .dataframe tbody tr th {\n",
              "        vertical-align: top;\n",
              "    }\n",
              "\n",
              "    .dataframe thead th {\n",
              "        text-align: right;\n",
              "    }\n",
              "</style>\n",
              "<table border=\"1\" class=\"dataframe\">\n",
              "  <thead>\n",
              "    <tr style=\"text-align: right;\">\n",
              "      <th></th>\n",
              "      <th>fixed acidity</th>\n",
              "      <th>volatile acidity</th>\n",
              "      <th>citric acid</th>\n",
              "      <th>residual sugar</th>\n",
              "      <th>chlorides</th>\n",
              "      <th>free sulfur dioxide</th>\n",
              "      <th>total sulfur dioxide</th>\n",
              "      <th>density</th>\n",
              "      <th>pH</th>\n",
              "      <th>sulphates</th>\n",
              "      <th>alcohol</th>\n",
              "      <th>quality</th>\n",
              "    </tr>\n",
              "  </thead>\n",
              "  <tbody>\n",
              "    <tr>\n",
              "      <th>1589</th>\n",
              "      <td>6.6</td>\n",
              "      <td>0.725</td>\n",
              "      <td>0.20</td>\n",
              "      <td>7.8</td>\n",
              "      <td>0.073</td>\n",
              "      <td>29.0</td>\n",
              "      <td>79.0</td>\n",
              "      <td>0.99770</td>\n",
              "      <td>3.29</td>\n",
              "      <td>0.54</td>\n",
              "      <td>9.2</td>\n",
              "      <td>5</td>\n",
              "    </tr>\n",
              "    <tr>\n",
              "      <th>1590</th>\n",
              "      <td>6.3</td>\n",
              "      <td>0.550</td>\n",
              "      <td>0.15</td>\n",
              "      <td>1.8</td>\n",
              "      <td>0.077</td>\n",
              "      <td>26.0</td>\n",
              "      <td>35.0</td>\n",
              "      <td>0.99314</td>\n",
              "      <td>3.32</td>\n",
              "      <td>0.82</td>\n",
              "      <td>11.6</td>\n",
              "      <td>6</td>\n",
              "    </tr>\n",
              "    <tr>\n",
              "      <th>1591</th>\n",
              "      <td>5.4</td>\n",
              "      <td>0.740</td>\n",
              "      <td>0.09</td>\n",
              "      <td>1.7</td>\n",
              "      <td>0.089</td>\n",
              "      <td>16.0</td>\n",
              "      <td>26.0</td>\n",
              "      <td>0.99402</td>\n",
              "      <td>3.67</td>\n",
              "      <td>0.56</td>\n",
              "      <td>11.6</td>\n",
              "      <td>6</td>\n",
              "    </tr>\n",
              "    <tr>\n",
              "      <th>1592</th>\n",
              "      <td>6.3</td>\n",
              "      <td>0.510</td>\n",
              "      <td>0.13</td>\n",
              "      <td>2.3</td>\n",
              "      <td>0.076</td>\n",
              "      <td>29.0</td>\n",
              "      <td>40.0</td>\n",
              "      <td>0.99574</td>\n",
              "      <td>3.42</td>\n",
              "      <td>0.75</td>\n",
              "      <td>11.0</td>\n",
              "      <td>6</td>\n",
              "    </tr>\n",
              "    <tr>\n",
              "      <th>1593</th>\n",
              "      <td>6.8</td>\n",
              "      <td>0.620</td>\n",
              "      <td>0.08</td>\n",
              "      <td>1.9</td>\n",
              "      <td>0.068</td>\n",
              "      <td>28.0</td>\n",
              "      <td>38.0</td>\n",
              "      <td>0.99651</td>\n",
              "      <td>3.42</td>\n",
              "      <td>0.82</td>\n",
              "      <td>9.5</td>\n",
              "      <td>6</td>\n",
              "    </tr>\n",
              "    <tr>\n",
              "      <th>1594</th>\n",
              "      <td>6.2</td>\n",
              "      <td>0.600</td>\n",
              "      <td>0.08</td>\n",
              "      <td>2.0</td>\n",
              "      <td>0.090</td>\n",
              "      <td>32.0</td>\n",
              "      <td>44.0</td>\n",
              "      <td>0.99490</td>\n",
              "      <td>3.45</td>\n",
              "      <td>0.58</td>\n",
              "      <td>10.5</td>\n",
              "      <td>5</td>\n",
              "    </tr>\n",
              "    <tr>\n",
              "      <th>1595</th>\n",
              "      <td>5.9</td>\n",
              "      <td>0.550</td>\n",
              "      <td>0.10</td>\n",
              "      <td>2.2</td>\n",
              "      <td>0.062</td>\n",
              "      <td>39.0</td>\n",
              "      <td>51.0</td>\n",
              "      <td>0.99512</td>\n",
              "      <td>3.52</td>\n",
              "      <td>0.76</td>\n",
              "      <td>11.2</td>\n",
              "      <td>6</td>\n",
              "    </tr>\n",
              "    <tr>\n",
              "      <th>1596</th>\n",
              "      <td>6.3</td>\n",
              "      <td>0.510</td>\n",
              "      <td>0.13</td>\n",
              "      <td>2.3</td>\n",
              "      <td>0.076</td>\n",
              "      <td>29.0</td>\n",
              "      <td>40.0</td>\n",
              "      <td>0.99574</td>\n",
              "      <td>3.42</td>\n",
              "      <td>0.75</td>\n",
              "      <td>11.0</td>\n",
              "      <td>6</td>\n",
              "    </tr>\n",
              "    <tr>\n",
              "      <th>1597</th>\n",
              "      <td>5.9</td>\n",
              "      <td>0.645</td>\n",
              "      <td>0.12</td>\n",
              "      <td>2.0</td>\n",
              "      <td>0.075</td>\n",
              "      <td>32.0</td>\n",
              "      <td>44.0</td>\n",
              "      <td>0.99547</td>\n",
              "      <td>3.57</td>\n",
              "      <td>0.71</td>\n",
              "      <td>10.2</td>\n",
              "      <td>5</td>\n",
              "    </tr>\n",
              "    <tr>\n",
              "      <th>1598</th>\n",
              "      <td>6.0</td>\n",
              "      <td>0.310</td>\n",
              "      <td>0.47</td>\n",
              "      <td>3.6</td>\n",
              "      <td>0.067</td>\n",
              "      <td>18.0</td>\n",
              "      <td>42.0</td>\n",
              "      <td>0.99549</td>\n",
              "      <td>3.39</td>\n",
              "      <td>0.66</td>\n",
              "      <td>11.0</td>\n",
              "      <td>6</td>\n",
              "    </tr>\n",
              "  </tbody>\n",
              "</table>\n",
              "</div>"
            ],
            "text/plain": [
              "      fixed acidity  volatile acidity  citric acid  ...  sulphates  alcohol  quality\n",
              "1589            6.6             0.725         0.20  ...       0.54      9.2        5\n",
              "1590            6.3             0.550         0.15  ...       0.82     11.6        6\n",
              "1591            5.4             0.740         0.09  ...       0.56     11.6        6\n",
              "1592            6.3             0.510         0.13  ...       0.75     11.0        6\n",
              "1593            6.8             0.620         0.08  ...       0.82      9.5        6\n",
              "1594            6.2             0.600         0.08  ...       0.58     10.5        5\n",
              "1595            5.9             0.550         0.10  ...       0.76     11.2        6\n",
              "1596            6.3             0.510         0.13  ...       0.75     11.0        6\n",
              "1597            5.9             0.645         0.12  ...       0.71     10.2        5\n",
              "1598            6.0             0.310         0.47  ...       0.66     11.0        6\n",
              "\n",
              "[10 rows x 12 columns]"
            ]
          },
          "metadata": {
            "tags": []
          },
          "execution_count": 108
        }
      ]
    },
    {
      "cell_type": "markdown",
      "metadata": {
        "id": "zMQvlDD0fvA8",
        "colab_type": "text"
      },
      "source": [
        "Wyświetlenie wymiarów zbioru danych"
      ]
    },
    {
      "cell_type": "code",
      "metadata": {
        "id": "TZyI9cuhe6TL",
        "colab_type": "code",
        "colab": {
          "base_uri": "https://localhost:8080/",
          "height": 34
        },
        "outputId": "94cd41be-3406-4753-d36e-46e691951cf4"
      },
      "source": [
        "wine_quality.shape"
      ],
      "execution_count": 109,
      "outputs": [
        {
          "output_type": "execute_result",
          "data": {
            "text/plain": [
              "(1599, 12)"
            ]
          },
          "metadata": {
            "tags": []
          },
          "execution_count": 109
        }
      ]
    },
    {
      "cell_type": "markdown",
      "metadata": {
        "id": "n_pYAn23fy1O",
        "colab_type": "text"
      },
      "source": [
        "Wyświetlenie informacji podsumowywujących zbiór danych"
      ]
    },
    {
      "cell_type": "code",
      "metadata": {
        "id": "yJ2FK97cfEcA",
        "colab_type": "code",
        "colab": {
          "base_uri": "https://localhost:8080/",
          "height": 340
        },
        "outputId": "bff4dcc8-1584-4ba2-8d30-eea042dee5b4"
      },
      "source": [
        "wine_quality.info()"
      ],
      "execution_count": 110,
      "outputs": [
        {
          "output_type": "stream",
          "text": [
            "<class 'pandas.core.frame.DataFrame'>\n",
            "RangeIndex: 1599 entries, 0 to 1598\n",
            "Data columns (total 12 columns):\n",
            " #   Column                Non-Null Count  Dtype  \n",
            "---  ------                --------------  -----  \n",
            " 0   fixed acidity         1599 non-null   float64\n",
            " 1   volatile acidity      1599 non-null   float64\n",
            " 2   citric acid           1599 non-null   float64\n",
            " 3   residual sugar        1599 non-null   float64\n",
            " 4   chlorides             1599 non-null   float64\n",
            " 5   free sulfur dioxide   1599 non-null   float64\n",
            " 6   total sulfur dioxide  1599 non-null   float64\n",
            " 7   density               1599 non-null   float64\n",
            " 8   pH                    1599 non-null   float64\n",
            " 9   sulphates             1599 non-null   float64\n",
            " 10  alcohol               1599 non-null   float64\n",
            " 11  quality               1599 non-null   int64  \n",
            "dtypes: float64(11), int64(1)\n",
            "memory usage: 150.0 KB\n"
          ],
          "name": "stdout"
        }
      ]
    },
    {
      "cell_type": "markdown",
      "metadata": {
        "id": "v5YXnFArf-ho",
        "colab_type": "text"
      },
      "source": [
        "Wyświetlenie informacji o danych zawartych w zbiorze"
      ]
    },
    {
      "cell_type": "code",
      "metadata": {
        "id": "A1bm1qO_fAQJ",
        "colab_type": "code",
        "colab": {
          "base_uri": "https://localhost:8080/",
          "height": 314
        },
        "outputId": "7961babc-f9dd-4c5e-c41a-9032ec147591"
      },
      "source": [
        "wine_quality.describe()"
      ],
      "execution_count": 111,
      "outputs": [
        {
          "output_type": "execute_result",
          "data": {
            "text/html": [
              "<div>\n",
              "<style scoped>\n",
              "    .dataframe tbody tr th:only-of-type {\n",
              "        vertical-align: middle;\n",
              "    }\n",
              "\n",
              "    .dataframe tbody tr th {\n",
              "        vertical-align: top;\n",
              "    }\n",
              "\n",
              "    .dataframe thead th {\n",
              "        text-align: right;\n",
              "    }\n",
              "</style>\n",
              "<table border=\"1\" class=\"dataframe\">\n",
              "  <thead>\n",
              "    <tr style=\"text-align: right;\">\n",
              "      <th></th>\n",
              "      <th>fixed acidity</th>\n",
              "      <th>volatile acidity</th>\n",
              "      <th>citric acid</th>\n",
              "      <th>residual sugar</th>\n",
              "      <th>chlorides</th>\n",
              "      <th>free sulfur dioxide</th>\n",
              "      <th>total sulfur dioxide</th>\n",
              "      <th>density</th>\n",
              "      <th>pH</th>\n",
              "      <th>sulphates</th>\n",
              "      <th>alcohol</th>\n",
              "      <th>quality</th>\n",
              "    </tr>\n",
              "  </thead>\n",
              "  <tbody>\n",
              "    <tr>\n",
              "      <th>count</th>\n",
              "      <td>1599.000000</td>\n",
              "      <td>1599.000000</td>\n",
              "      <td>1599.000000</td>\n",
              "      <td>1599.000000</td>\n",
              "      <td>1599.000000</td>\n",
              "      <td>1599.000000</td>\n",
              "      <td>1599.000000</td>\n",
              "      <td>1599.000000</td>\n",
              "      <td>1599.000000</td>\n",
              "      <td>1599.000000</td>\n",
              "      <td>1599.000000</td>\n",
              "      <td>1599.000000</td>\n",
              "    </tr>\n",
              "    <tr>\n",
              "      <th>mean</th>\n",
              "      <td>8.319637</td>\n",
              "      <td>0.527821</td>\n",
              "      <td>0.270976</td>\n",
              "      <td>2.538806</td>\n",
              "      <td>0.087467</td>\n",
              "      <td>15.874922</td>\n",
              "      <td>46.467792</td>\n",
              "      <td>0.996747</td>\n",
              "      <td>3.311113</td>\n",
              "      <td>0.658149</td>\n",
              "      <td>10.422983</td>\n",
              "      <td>5.636023</td>\n",
              "    </tr>\n",
              "    <tr>\n",
              "      <th>std</th>\n",
              "      <td>1.741096</td>\n",
              "      <td>0.179060</td>\n",
              "      <td>0.194801</td>\n",
              "      <td>1.409928</td>\n",
              "      <td>0.047065</td>\n",
              "      <td>10.460157</td>\n",
              "      <td>32.895324</td>\n",
              "      <td>0.001887</td>\n",
              "      <td>0.154386</td>\n",
              "      <td>0.169507</td>\n",
              "      <td>1.065668</td>\n",
              "      <td>0.807569</td>\n",
              "    </tr>\n",
              "    <tr>\n",
              "      <th>min</th>\n",
              "      <td>4.600000</td>\n",
              "      <td>0.120000</td>\n",
              "      <td>0.000000</td>\n",
              "      <td>0.900000</td>\n",
              "      <td>0.012000</td>\n",
              "      <td>1.000000</td>\n",
              "      <td>6.000000</td>\n",
              "      <td>0.990070</td>\n",
              "      <td>2.740000</td>\n",
              "      <td>0.330000</td>\n",
              "      <td>8.400000</td>\n",
              "      <td>3.000000</td>\n",
              "    </tr>\n",
              "    <tr>\n",
              "      <th>25%</th>\n",
              "      <td>7.100000</td>\n",
              "      <td>0.390000</td>\n",
              "      <td>0.090000</td>\n",
              "      <td>1.900000</td>\n",
              "      <td>0.070000</td>\n",
              "      <td>7.000000</td>\n",
              "      <td>22.000000</td>\n",
              "      <td>0.995600</td>\n",
              "      <td>3.210000</td>\n",
              "      <td>0.550000</td>\n",
              "      <td>9.500000</td>\n",
              "      <td>5.000000</td>\n",
              "    </tr>\n",
              "    <tr>\n",
              "      <th>50%</th>\n",
              "      <td>7.900000</td>\n",
              "      <td>0.520000</td>\n",
              "      <td>0.260000</td>\n",
              "      <td>2.200000</td>\n",
              "      <td>0.079000</td>\n",
              "      <td>14.000000</td>\n",
              "      <td>38.000000</td>\n",
              "      <td>0.996750</td>\n",
              "      <td>3.310000</td>\n",
              "      <td>0.620000</td>\n",
              "      <td>10.200000</td>\n",
              "      <td>6.000000</td>\n",
              "    </tr>\n",
              "    <tr>\n",
              "      <th>75%</th>\n",
              "      <td>9.200000</td>\n",
              "      <td>0.640000</td>\n",
              "      <td>0.420000</td>\n",
              "      <td>2.600000</td>\n",
              "      <td>0.090000</td>\n",
              "      <td>21.000000</td>\n",
              "      <td>62.000000</td>\n",
              "      <td>0.997835</td>\n",
              "      <td>3.400000</td>\n",
              "      <td>0.730000</td>\n",
              "      <td>11.100000</td>\n",
              "      <td>6.000000</td>\n",
              "    </tr>\n",
              "    <tr>\n",
              "      <th>max</th>\n",
              "      <td>15.900000</td>\n",
              "      <td>1.580000</td>\n",
              "      <td>1.000000</td>\n",
              "      <td>15.500000</td>\n",
              "      <td>0.611000</td>\n",
              "      <td>72.000000</td>\n",
              "      <td>289.000000</td>\n",
              "      <td>1.003690</td>\n",
              "      <td>4.010000</td>\n",
              "      <td>2.000000</td>\n",
              "      <td>14.900000</td>\n",
              "      <td>8.000000</td>\n",
              "    </tr>\n",
              "  </tbody>\n",
              "</table>\n",
              "</div>"
            ],
            "text/plain": [
              "       fixed acidity  volatile acidity  ...      alcohol      quality\n",
              "count    1599.000000       1599.000000  ...  1599.000000  1599.000000\n",
              "mean        8.319637          0.527821  ...    10.422983     5.636023\n",
              "std         1.741096          0.179060  ...     1.065668     0.807569\n",
              "min         4.600000          0.120000  ...     8.400000     3.000000\n",
              "25%         7.100000          0.390000  ...     9.500000     5.000000\n",
              "50%         7.900000          0.520000  ...    10.200000     6.000000\n",
              "75%         9.200000          0.640000  ...    11.100000     6.000000\n",
              "max        15.900000          1.580000  ...    14.900000     8.000000\n",
              "\n",
              "[8 rows x 12 columns]"
            ]
          },
          "metadata": {
            "tags": []
          },
          "execution_count": 111
        }
      ]
    },
    {
      "cell_type": "code",
      "metadata": {
        "id": "GhhRB_O_vQrc",
        "colab_type": "code",
        "colab": {
          "base_uri": "https://localhost:8080/",
          "height": 85
        },
        "outputId": "eaeb0f26-5b66-4614-d78f-33a99ac8bb8e"
      },
      "source": [
        "wine_quality.columns"
      ],
      "execution_count": 112,
      "outputs": [
        {
          "output_type": "execute_result",
          "data": {
            "text/plain": [
              "Index(['fixed acidity', 'volatile acidity', 'citric acid', 'residual sugar',\n",
              "       'chlorides', 'free sulfur dioxide', 'total sulfur dioxide', 'density',\n",
              "       'pH', 'sulphates', 'alcohol', 'quality'],\n",
              "      dtype='object')"
            ]
          },
          "metadata": {
            "tags": []
          },
          "execution_count": 112
        }
      ]
    },
    {
      "cell_type": "markdown",
      "metadata": {
        "id": "gv5lpE26lzZ4",
        "colab_type": "text"
      },
      "source": [
        "Kolumny zawarte w zbiorze danych:\n",
        "* **fixed acidity** - stała kwasowość - wartość opisujaca zawartość rozpuszczonych kwasów w winie, których nie da się od niego oddzielić poprzez odparowywanie. Kwasy budujące strukturę, kwasowość wina.\n",
        "* **volatile acidity** - lotna kwasowość - wartość opisująca zawartość kwasów ogarnicznych, które można odparować. Głównie dotyczy ona kwasu octowego, którego im wyższa wartość tym lepiej wyczuwalne są nieporządane aromaty w winie.\n",
        "* **citric acidity** - kwas cytrynowy - sztucznie dodawany do zakwaszenia wina, może zostać przekształcony w kwas octowy (nieporządane aromaty)\n",
        "* **residual sugar** - cukry resztkowe - Cukry pozostałe w winie po przeprowadzeniu fermentacji.\n",
        "* **chlorides** - chlorki - budują mineralność wina\n",
        "* **free sulfur dioxide** - wolny dwutlenek siarki - zapobiega utlenianiu, może spowodować wystąpienie nieporządanych aromatów. \n",
        "* **total sulfur dioxide** - całkowita zawartość dwutlenku siarki\n",
        "* **density** - gęstość - wartość dla gotowego wina zależna jest od zawartości alkoholu i cukrów resztkowych.\n",
        "* **pH** - wartość pH - kwasowość/zasadowość wina, watości przyjmowane przez tą kolumnę powinny zawierać się w zbiorze <0, 14>\n",
        "* **sulphates** - siarczyny - zawartość związków siarki, wyższa wartość może skutkować pojawieniem się nieporządanych aromatów.\n",
        "* **alcohol** - zawartość alkoholu w winie\n",
        "* **quality** - jakość wina"
      ]
    },
    {
      "cell_type": "code",
      "metadata": {
        "id": "MXwb0N6ljcSK",
        "colab_type": "code",
        "colab": {
          "base_uri": "https://localhost:8080/",
          "height": 136
        },
        "outputId": "cf7754ec-b797-4f45-dd30-9680065f777a"
      },
      "source": [
        "wine_quality['quality'].value_counts()"
      ],
      "execution_count": 113,
      "outputs": [
        {
          "output_type": "execute_result",
          "data": {
            "text/plain": [
              "5    681\n",
              "6    638\n",
              "7    199\n",
              "4     53\n",
              "8     18\n",
              "3     10\n",
              "Name: quality, dtype: int64"
            ]
          },
          "metadata": {
            "tags": []
          },
          "execution_count": 113
        }
      ]
    },
    {
      "cell_type": "markdown",
      "metadata": {
        "id": "nU1uYiNNk64n",
        "colab_type": "text"
      },
      "source": [
        "Wartości opisujące jakość wina to liczby całkowite od **3** do **8**"
      ]
    },
    {
      "cell_type": "markdown",
      "metadata": {
        "id": "u7FE1F-jhCL0",
        "colab_type": "text"
      },
      "source": [
        "##Dokonaj preprocessingu:"
      ]
    },
    {
      "cell_type": "markdown",
      "metadata": {
        "id": "1x65nPlbvaEE",
        "colab_type": "text"
      },
      "source": [
        "Zmiana nazw kolumn"
      ]
    },
    {
      "cell_type": "code",
      "metadata": {
        "id": "hpZjtnvNvZjI",
        "colab_type": "code",
        "colab": {}
      },
      "source": [
        "wine_quality.rename(columns={\n",
        "    'fixed acidity': 'fixed_acidity', \n",
        "    'volatile acidity': 'volatile_acidity',\n",
        "    'citric acid': 'citric_acid',\n",
        "    'residual sugar': 'residual_sugar',\n",
        "    'free sulfur dioxide': 'free_so2',\n",
        "    'total sulfur dioxide': 'total_so2',\n",
        "    'pH': 'ph'\n",
        "}, inplace=True)"
      ],
      "execution_count": 114,
      "outputs": []
    },
    {
      "cell_type": "markdown",
      "metadata": {
        "id": "CaxtdujjhU7w",
        "colab_type": "text"
      },
      "source": [
        "\n",
        "\n",
        "###usuń niepotrzebne kolumny - jeśli uważasz, że takie znajdują się w zbiorze\n",
        "Analizując cechy opisujace wino, można założyć że kolumny **ph** i **density** nie są potrzebne:\n",
        "* **pH** - powinna być wartością wynikającą z zasad i kwasów zawartych w winie, o wartościach których posiadamy informacje.\n",
        "* **density** - powinna być wartością zależną głównie od zawartości alkoholu i cukrów resztowych w winie.\n"
      ]
    },
    {
      "cell_type": "code",
      "metadata": {
        "id": "dv5J8tAehUSf",
        "colab_type": "code",
        "colab": {}
      },
      "source": [
        "wine_quality_source = wine_quality.copy()\n",
        "\n",
        "wine_quality.drop(['ph'], axis=1, inplace=True)\n",
        "wine_quality.drop(['density'], axis=1, inplace=True)"
      ],
      "execution_count": 115,
      "outputs": []
    },
    {
      "cell_type": "markdown",
      "metadata": {
        "id": "mcfbqJtGhaCo",
        "colab_type": "text"
      },
      "source": [
        "###uzupełnij puste wartości - jeśli takie znajdują się w zbiorze\n",
        "Na podstawie poniższej tabeli można zauważyć, że w zbiorze nie występują rekordy z brakującymi danymi."
      ]
    },
    {
      "cell_type": "code",
      "metadata": {
        "id": "eKG3BDDJhHGl",
        "colab_type": "code",
        "colab": {
          "base_uri": "https://localhost:8080/",
          "height": 204
        },
        "outputId": "2003ec03-24bb-4bcb-e158-985f0a0d7d9f"
      },
      "source": [
        "wine_quality.isnull().sum()"
      ],
      "execution_count": 116,
      "outputs": [
        {
          "output_type": "execute_result",
          "data": {
            "text/plain": [
              "fixed_acidity       0\n",
              "volatile_acidity    0\n",
              "citric_acid         0\n",
              "residual_sugar      0\n",
              "chlorides           0\n",
              "free_so2            0\n",
              "total_so2           0\n",
              "sulphates           0\n",
              "alcohol             0\n",
              "quality             0\n",
              "dtype: int64"
            ]
          },
          "metadata": {
            "tags": []
          },
          "execution_count": 116
        }
      ]
    },
    {
      "cell_type": "markdown",
      "metadata": {
        "id": "OQYWXMXgh0qp",
        "colab_type": "text"
      },
      "source": [
        "##obsłuż wartości odstające - jeśli takie znajdują się w zbiorze"
      ]
    },
    {
      "cell_type": "code",
      "metadata": {
        "id": "erQJCfQFh0C4",
        "colab_type": "code",
        "colab": {
          "base_uri": "https://localhost:8080/",
          "height": 1000
        },
        "outputId": "ef74fe6a-8c1b-4db2-f662-865c7d673c40"
      },
      "source": [
        "import seaborn as sns\n",
        "import matplotlib.pyplot as plt\n",
        "%matplotlib inline \n",
        "sns.set(color_codes=True)\n",
        "\n",
        "\n",
        "def show_box_diagrams(df):\n",
        "  for col in df.columns:\n",
        "    sns.boxplot(x=df[col])\n",
        "    plt.show()\n",
        "\n",
        "show_box_diagrams(wine_quality)"
      ],
      "execution_count": 117,
      "outputs": [
        {
          "output_type": "display_data",
          "data": {
            "image/png": "[encoded data removed]",
            "text/plain": [
              "<Figure size 432x288 with 1 Axes>"
            ]
          },
          "metadata": {
            "tags": []
          }
        },
        {
          "output_type": "display_data",
          "data": {
            "image/png": "[encoded data removed]",
            "text/plain": [
              "<Figure size 432x288 with 1 Axes>"
            ]
          },
          "metadata": {
            "tags": []
          }
        },
        {
          "output_type": "display_data",
          "data": {
            "image/png": "[encoded data removed]",
            "text/plain": [
              "<Figure size 432x288 with 1 Axes>"
            ]
          },
          "metadata": {
            "tags": []
          }
        },
        {
          "output_type": "display_data",
          "data": {
            "image/png": "[encoded data removed]",
            "text/plain": [
              "<Figure size 432x288 with 1 Axes>"
            ]
          },
          "metadata": {
            "tags": []
          }
        },
        {
          "output_type": "display_data",
          "data": {
            "image/png": "[encoded data removed]",
            "text/plain": [
              "<Figure size 432x288 with 1 Axes>"
            ]
          },
          "metadata": {
            "tags": []
          }
        },
        {
          "output_type": "display_data",
          "data": {
            "image/png": "[encoded data removed]",
            "text/plain": [
              "<Figure size 432x288 with 1 Axes>"
            ]
          },
          "metadata": {
            "tags": []
          }
        },
        {
          "output_type": "display_data",
          "data": {
            "image/png": "[encoded data removed]",
            "text/plain": [
              "<Figure size 432x288 with 1 Axes>"
            ]
          },
          "metadata": {
            "tags": []
          }
        },
        {
          "output_type": "display_data",
          "data": {
            "image/png": "[encoded data removed]",
            "text/plain": [
              "<Figure size 432x288 with 1 Axes>"
            ]
          },
          "metadata": {
            "tags": []
          }
        },
        {
          "output_type": "display_data",
          "data": {
            "image/png": "[encoded data removed]",
            "text/plain": [
              "<Figure size 432x288 with 1 Axes>"
            ]
          },
          "metadata": {
            "tags": []
          }
        },
        {
          "output_type": "display_data",
          "data": {
            "image/png": "[encoded data removed]",
            "text/plain": [
              "<Figure size 432x288 with 1 Axes>"
            ]
          },
          "metadata": {
            "tags": []
          }
        }
      ]
    },
    {
      "cell_type": "code",
      "metadata": {
        "id": "ePmhhFdxxWHa",
        "colab_type": "code",
        "colab": {}
      },
      "source": [
        "def remove_outliers(df):\n",
        "  q1 = df.quantile(0.25)\n",
        "  q3 = df.quantile(0.75)\n",
        "  iqr = q3 - q1\n",
        "  outliers = (df < (q1 - 2.0 * iqr)) | (df > (q3 + 2.0 * iqr))\n",
        "  no_outliers = ~(outliers).any(axis=1)\n",
        "  df._update_inplace(df[no_outliers])\n",
        "\n",
        "remove_outliers(wine_quality)\n",
        "remove_outliers(wine_quality_source)"
      ],
      "execution_count": 118,
      "outputs": []
    },
    {
      "cell_type": "code",
      "metadata": {
        "id": "qwLKJcJkyjFO",
        "colab_type": "code",
        "colab": {
          "base_uri": "https://localhost:8080/",
          "height": 1000
        },
        "outputId": "ba3b39d7-0170-441b-cf6d-c3b265e73635"
      },
      "source": [
        "show_box_diagrams(wine_quality)"
      ],
      "execution_count": 119,
      "outputs": [
        {
          "output_type": "display_data",
          "data": {
            "image/png": "[encoded data removed]",
            "text/plain": [
              "<Figure size 432x288 with 1 Axes>"
            ]
          },
          "metadata": {
            "tags": []
          }
        },
        {
          "output_type": "display_data",
          "data": {
            "image/png": "[encoded data removed]",
            "text/plain": [
              "<Figure size 432x288 with 1 Axes>"
            ]
          },
          "metadata": {
            "tags": []
          }
        },
        {
          "output_type": "display_data",
          "data": {
            "image/png": "[encoded data removed]",
            "text/plain": [
              "<Figure size 432x288 with 1 Axes>"
            ]
          },
          "metadata": {
            "tags": []
          }
        },
        {
          "output_type": "display_data",
          "data": {
            "image/png": "[encoded data removed]",
            "text/plain": [
              "<Figure size 432x288 with 1 Axes>"
            ]
          },
          "metadata": {
            "tags": []
          }
        },
        {
          "output_type": "display_data",
          "data": {
            "image/png": "[encoded data removed]",
            "text/plain": [
              "<Figure size 432x288 with 1 Axes>"
            ]
          },
          "metadata": {
            "tags": []
          }
        },
        {
          "output_type": "display_data",
          "data": {
            "image/png": "[encoded data removed]",
            "text/plain": [
              "<Figure size 432x288 with 1 Axes>"
            ]
          },
          "metadata": {
            "tags": []
          }
        },
        {
          "output_type": "display_data",
          "data": {
            "image/png": "[encoded data removed]",
            "text/plain": [
              "<Figure size 432x288 with 1 Axes>"
            ]
          },
          "metadata": {
            "tags": []
          }
        },
        {
          "output_type": "display_data",
          "data": {
            "image/png": "[encoded data removed]",
            "text/plain": [
              "<Figure size 432x288 with 1 Axes>"
            ]
          },
          "metadata": {
            "tags": []
          }
        },
        {
          "output_type": "display_data",
          "data": {
            "image/png": "[encoded data removed]",
            "text/plain": [
              "<Figure size 432x288 with 1 Axes>"
            ]
          },
          "metadata": {
            "tags": []
          }
        },
        {
          "output_type": "display_data",
          "data": {
            "image/png": "[encoded data removed]",
            "text/plain": [
              "<Figure size 432x288 with 1 Axes>"
            ]
          },
          "metadata": {
            "tags": []
          }
        }
      ]
    },
    {
      "cell_type": "markdown",
      "metadata": {
        "id": "xbLlxfUVzHM7",
        "colab_type": "text"
      },
      "source": [
        "## Analiza korelacji"
      ]
    },
    {
      "cell_type": "code",
      "metadata": {
        "id": "kNYzb4JLzAbZ",
        "colab_type": "code",
        "colab": {
          "base_uri": "https://localhost:8080/",
          "height": 616
        },
        "outputId": "14ed5492-b30f-4580-8e1a-0bca9f267a1d"
      },
      "source": [
        "\n",
        "plt.figure(figsize=(18,10))\n",
        "correlatons = wine_quality.corr()\n",
        "sns.heatmap(correlatons, annot=True)"
      ],
      "execution_count": 120,
      "outputs": [
        {
          "output_type": "execute_result",
          "data": {
            "text/plain": [
              "<matplotlib.axes._subplots.AxesSubplot at 0x7f64b5a92898>"
            ]
          },
          "metadata": {
            "tags": []
          },
          "execution_count": 120
        },
        {
          "output_type": "display_data",
          "data": {
            "image/png": "[encoded data removed]",
            "text/plain": [
              "<Figure size 1296x720 with 2 Axes>"
            ]
          },
          "metadata": {
            "tags": []
          }
        }
      ]
    },
    {
      "cell_type": "markdown",
      "metadata": {
        "id": "6-uwVFqG0vEG",
        "colab_type": "text"
      },
      "source": [
        "###które składniki są najbardziej powiązane z jakością wina?\n",
        "\n",
        "Analizując powstałą macierz korelacji można zauważyć największe powiązanie pomiędzy jakością a poniższymi cechami:\n",
        "* alcohol\n",
        "* sulphates\n",
        "* volatile_acidity (ujemna)\n",
        "\n",
        "Można również zauważyć słaby ale nadal dość wysoki poziom zależności pomiędzy jakością a cechami:\n",
        "* citric_acid\n",
        "* total_so2 (ujemna)\n",
        "* chlorides (ujemna)"
      ]
    },
    {
      "cell_type": "markdown",
      "metadata": {
        "id": "Hpm00q3e0zwg",
        "colab_type": "text"
      },
      "source": [
        "###czy istnieją jakieś zależności między składnikami?\n",
        "Silne zależności można zaobserwować pomiędzy cechami:\n",
        "* citric_acid - fixed_acidity\n",
        "* citric_acid - volatile_acidity\n",
        "* free_so2 - total_so2\n",
        "\n",
        "Ponadto można zaobserować słabe zależności pomiędzy:\n",
        "* fixed_acidity: sulphates, residual_sugar, chlorides, volatile_acidity, free_so2\n",
        "* volatile_acidity: alcohol, sulphates\n",
        "* citric_acid: sulphates, residual_sugar\n",
        "* chlorides: alcohol, residual_sugar\n",
        "* total_so2: alcohol"
      ]
    },
    {
      "cell_type": "markdown",
      "metadata": {
        "id": "bYuE2tGV7Gfb",
        "colab_type": "text"
      },
      "source": [
        "## Selekcja cech"
      ]
    },
    {
      "cell_type": "code",
      "metadata": {
        "id": "lz-XNSV68tuE",
        "colab_type": "code",
        "colab": {
          "base_uri": "https://localhost:8080/",
          "height": 221
        },
        "outputId": "35d46e4a-2988-4170-f9fb-ad3a7653197b"
      },
      "source": [
        "import sklearn.feature_selection as fs\n",
        "\n",
        "wine_data = wine_quality.drop(columns='quality')\n",
        "quality_data = wine_quality.loc[:, 'quality']\n",
        "\n",
        "quality_data"
      ],
      "execution_count": 121,
      "outputs": [
        {
          "output_type": "execute_result",
          "data": {
            "text/plain": [
              "0       5\n",
              "1       5\n",
              "2       5\n",
              "3       6\n",
              "4       5\n",
              "       ..\n",
              "1594    5\n",
              "1595    6\n",
              "1596    6\n",
              "1597    5\n",
              "1598    6\n",
              "Name: quality, Length: 1349, dtype: int64"
            ]
          },
          "metadata": {
            "tags": []
          },
          "execution_count": 121
        }
      ]
    },
    {
      "cell_type": "markdown",
      "metadata": {
        "id": "Hoks5U0p3Mbc",
        "colab_type": "text"
      },
      "source": [
        "### Wzajemna informacja"
      ]
    },
    {
      "cell_type": "code",
      "metadata": {
        "id": "QKoN9mNJ9TW_",
        "colab_type": "code",
        "colab": {
          "base_uri": "https://localhost:8080/",
          "height": 51
        },
        "outputId": "8fc663d3-8fa7-4290-bb0f-1af986532292"
      },
      "source": [
        "fmutual = fs.mutual_info_classif(wine_data, quality_data, n_neighbors=3)\n",
        "fmutual"
      ],
      "execution_count": 122,
      "outputs": [
        {
          "output_type": "execute_result",
          "data": {
            "text/plain": [
              "array([0.05977924, 0.10752777, 0.05790168, 0.00579724, 0.02741445,\n",
              "       0.01422461, 0.07422763, 0.11832997, 0.20574629])"
            ]
          },
          "metadata": {
            "tags": []
          },
          "execution_count": 122
        }
      ]
    },
    {
      "cell_type": "markdown",
      "metadata": {
        "id": "MPiG0PCV3Wvd",
        "colab_type": "text"
      },
      "source": [
        "Najwyższą zależność z jakością wina można zobserwować dla:\n",
        "* sulphates\n",
        "* alcohol\n",
        "\n",
        "Wartości zależności tych cech są znacznie odbiegają od pozostałych.\n",
        "Pozostałe cechy o dość wysokiej zależności zwrócone przez algorytm to:\n",
        "* volatile_acidity\n",
        "* total_so2\n",
        "* citric_acid\n"
      ]
    },
    {
      "cell_type": "markdown",
      "metadata": {
        "id": "m6wG7LWh3Rwm",
        "colab_type": "text"
      },
      "source": [
        "### Rekurencyjna eliminacja cech"
      ]
    },
    {
      "cell_type": "code",
      "metadata": {
        "id": "gP4gq4o0-gh3",
        "colab_type": "code",
        "colab": {
          "base_uri": "https://localhost:8080/",
          "height": 187
        },
        "outputId": "c34d2a2d-a657-43d0-f7c0-3893b0ee86a8"
      },
      "source": [
        "from sklearn.feature_selection import RFE\n",
        "from sklearn.linear_model import LogisticRegression\n",
        "\n",
        "def normalize_column(df, column_name):\n",
        "    return (df[column_name] - df[column_name].min()) / (df[column_name].max() - df[column_name].min())\n",
        "\n",
        "normalized = pd.DataFrame()\n",
        "\n",
        "for col in wine_data.columns:\n",
        "  normalized[col] = normalize_column(wine_quality, col)\n",
        "\n",
        "rfe_selector = RFE(estimator = LogisticRegression())\n",
        "rfe_selector.fit(normalized, quality_data)\n",
        "rfe_support = rfe_selector.get_support()\n",
        "rfe_feature = wine_data.loc[:,rfe_support].columns.tolist()\n",
        "print(str(len(rfe_feature)), 'selected features')\n",
        "rfe_feature"
      ],
      "execution_count": 123,
      "outputs": [
        {
          "output_type": "stream",
          "text": [
            "/usr/local/lib/python3.6/dist-packages/sklearn/linear_model/_logistic.py:940: ConvergenceWarning: lbfgs failed to converge (status=1):\n",
            "STOP: TOTAL NO. of ITERATIONS REACHED LIMIT.\n",
            "\n",
            "Increase the number of iterations (max_iter) or scale the data as shown in:\n",
            "    https://scikit-learn.org/stable/modules/preprocessing.html\n",
            "Please also refer to the documentation for alternative solver options:\n",
            "    https://scikit-learn.org/stable/modules/linear_model.html#logistic-regression\n",
            "  extra_warning_msg=_LOGISTIC_SOLVER_CONVERGENCE_MSG)\n"
          ],
          "name": "stderr"
        },
        {
          "output_type": "stream",
          "text": [
            "4 selected features\n"
          ],
          "name": "stdout"
        },
        {
          "output_type": "execute_result",
          "data": {
            "text/plain": [
              "['volatile_acidity', 'total_so2', 'sulphates', 'alcohol']"
            ]
          },
          "metadata": {
            "tags": []
          },
          "execution_count": 123
        }
      ]
    },
    {
      "cell_type": "markdown",
      "metadata": {
        "id": "7_mf3EXkDPF7",
        "colab_type": "text"
      },
      "source": [
        "Analizujac wyniki zwrócone przez dwa algorytmy, najlepszymi cechami do dalszej analizy są:\n",
        "* volatile_acidity\n",
        "* total_so2\n",
        "* sulphates\n",
        "* alcohol\n",
        "\n",
        "Zaproponowane kolumny cechowały się najwyższymi wsółczynnikami powiązania w macierzy korelacji.\n",
        "Jednakże analizując faktyczny wpływ poszczególnych związków chemicznych na wino, do dalszej analizy wziałbym pod uwagę również parametr **citric_acid**, który cechował się również wysokim współczynnikiem zależności do jakości wina."
      ]
    },
    {
      "cell_type": "markdown",
      "metadata": {
        "id": "TtmzKiTIGzYe",
        "colab_type": "text"
      },
      "source": [
        "## Porównanie wyników klasyfikacji (zadanie 3, wariant 1)"
      ]
    },
    {
      "cell_type": "code",
      "metadata": {
        "id": "ZrCzi9P_HAFg",
        "colab_type": "code",
        "colab": {}
      },
      "source": [
        "# Preprocessing\n",
        "from sklearn import preprocessing\n",
        "from sklearn.preprocessing import LabelEncoder\n",
        "from sklearn.model_selection import train_test_split\n",
        "\n",
        "# KNN\n",
        "from sklearn.neighbors import KNeighborsClassifier\n",
        "\n",
        "# Miary jakości\n",
        "from sklearn import metrics\n",
        "from sklearn.metrics import precision_score"
      ],
      "execution_count": 151,
      "outputs": []
    },
    {
      "cell_type": "markdown",
      "metadata": {
        "id": "3H0CIvEzHAn7",
        "colab_type": "text"
      },
      "source": [
        "### Przygotowanie danych"
      ]
    },
    {
      "cell_type": "code",
      "metadata": {
        "id": "PHbUR_NQHP0t",
        "colab_type": "code",
        "colab": {}
      },
      "source": [
        "def prepare_data_sets(df):\n",
        "  x = df.drop(columns='quality')\n",
        "  y = df.loc[:, 'quality']\n",
        "  preprocessing.normalize(x)\n",
        "  return x,y\n",
        "\n",
        "wine_data, wine_ratings = prepare_data_sets(wine_quality)\n",
        "source_wine_data, source_wine_ratings = prepare_data_sets(wine_quality_source)"
      ],
      "execution_count": 127,
      "outputs": []
    },
    {
      "cell_type": "markdown",
      "metadata": {
        "id": "ghQAd-vEH2iy",
        "colab_type": "text"
      },
      "source": [
        "## Przygotowanie zbiorów uczących i testowych"
      ]
    },
    {
      "cell_type": "code",
      "metadata": {
        "id": "zk95CDi2H2UC",
        "colab_type": "code",
        "colab": {}
      },
      "source": [
        "train_wd, test_wd, train_wr, test_wr = train_test_split(wine_data, wine_ratings, test_size=0.25, random_state=5)\n",
        "train_swd, test_swd, train_swr, test_swr = train_test_split(source_wine_data, source_wine_ratings, test_size=0.25, random_state=5)"
      ],
      "execution_count": 130,
      "outputs": []
    },
    {
      "cell_type": "markdown",
      "metadata": {
        "id": "MrjuQn0YIfqC",
        "colab_type": "text"
      },
      "source": [
        "## fro"
      ]
    },
    {
      "cell_type": "code",
      "metadata": {
        "id": "1ry3iGg9J8uP",
        "colab_type": "code",
        "colab": {
          "base_uri": "https://localhost:8080/",
          "height": 1000
        },
        "outputId": "5a160cec-01f9-433c-e662-c7da6abee6bb"
      },
      "source": [
        "distance_metrics = [\"euclidean\", \"manhattan\", \"chebyshev\", \"minkowski\"]\n",
        "neighbours = range(1, 19)\n",
        "\n",
        "for m in distance_metrics:\n",
        "  for n in neighbours:\n",
        "    knn = KNeighborsClassifier(n_neighbors=n, metric=m)\n",
        "    knn.fit(train_wd, train_wr)\n",
        "    prediction=knn.predict(test_wd)\n",
        "    try:\n",
        "      acc = metrics.accuracy_score(prediction,test_wr)\n",
        "      print(f'The accuracy of the KNN for metric: {m} and n_neighbours: {n} is {acc}')\n",
        "    except:\n",
        "      pass"
      ],
      "execution_count": 162,
      "outputs": [
        {
          "output_type": "stream",
          "text": [
            "The accuracy of the KNN for metric: euclidean and n_neighbours: 1 is 0.6153846153846154\n",
            "The accuracy of the KNN for metric: euclidean and n_neighbours: 2 is 0.5473372781065089\n",
            "The accuracy of the KNN for metric: euclidean and n_neighbours: 3 is 0.5059171597633136\n",
            "The accuracy of the KNN for metric: euclidean and n_neighbours: 4 is 0.5384615384615384\n",
            "The accuracy of the KNN for metric: euclidean and n_neighbours: 5 is 0.48520710059171596\n",
            "The accuracy of the KNN for metric: euclidean and n_neighbours: 6 is 0.5\n",
            "The accuracy of the KNN for metric: euclidean and n_neighbours: 7 is 0.5236686390532544\n",
            "The accuracy of the KNN for metric: euclidean and n_neighbours: 8 is 0.5088757396449705\n",
            "The accuracy of the KNN for metric: euclidean and n_neighbours: 9 is 0.5236686390532544\n",
            "The accuracy of the KNN for metric: euclidean and n_neighbours: 10 is 0.5325443786982249\n",
            "The accuracy of the KNN for metric: euclidean and n_neighbours: 11 is 0.5473372781065089\n",
            "The accuracy of the KNN for metric: euclidean and n_neighbours: 12 is 0.5414201183431953\n",
            "The accuracy of the KNN for metric: euclidean and n_neighbours: 13 is 0.5325443786982249\n",
            "The accuracy of the KNN for metric: euclidean and n_neighbours: 14 is 0.5118343195266272\n",
            "The accuracy of the KNN for metric: euclidean and n_neighbours: 15 is 0.514792899408284\n",
            "The accuracy of the KNN for metric: euclidean and n_neighbours: 16 is 0.5177514792899408\n",
            "The accuracy of the KNN for metric: euclidean and n_neighbours: 17 is 0.514792899408284\n",
            "The accuracy of the KNN for metric: euclidean and n_neighbours: 18 is 0.5236686390532544\n",
            "The accuracy of the KNN for metric: manhattan and n_neighbours: 1 is 0.6272189349112426\n",
            "The accuracy of the KNN for metric: manhattan and n_neighbours: 2 is 0.5650887573964497\n",
            "The accuracy of the KNN for metric: manhattan and n_neighbours: 3 is 0.5177514792899408\n",
            "The accuracy of the KNN for metric: manhattan and n_neighbours: 4 is 0.5828402366863905\n",
            "The accuracy of the KNN for metric: manhattan and n_neighbours: 5 is 0.5502958579881657\n",
            "The accuracy of the KNN for metric: manhattan and n_neighbours: 6 is 0.5591715976331361\n",
            "The accuracy of the KNN for metric: manhattan and n_neighbours: 7 is 0.5710059171597633\n",
            "The accuracy of the KNN for metric: manhattan and n_neighbours: 8 is 0.5887573964497042\n",
            "The accuracy of the KNN for metric: manhattan and n_neighbours: 9 is 0.5650887573964497\n",
            "The accuracy of the KNN for metric: manhattan and n_neighbours: 10 is 0.5680473372781065\n",
            "The accuracy of the KNN for metric: manhattan and n_neighbours: 11 is 0.5355029585798816\n",
            "The accuracy of the KNN for metric: manhattan and n_neighbours: 12 is 0.5591715976331361\n",
            "The accuracy of the KNN for metric: manhattan and n_neighbours: 13 is 0.5443786982248521\n",
            "The accuracy of the KNN for metric: manhattan and n_neighbours: 14 is 0.5710059171597633\n",
            "The accuracy of the KNN for metric: manhattan and n_neighbours: 15 is 0.5473372781065089\n",
            "The accuracy of the KNN for metric: manhattan and n_neighbours: 16 is 0.5562130177514792\n",
            "The accuracy of the KNN for metric: manhattan and n_neighbours: 17 is 0.5325443786982249\n",
            "The accuracy of the KNN for metric: manhattan and n_neighbours: 18 is 0.5532544378698225\n",
            "The accuracy of the KNN for metric: chebyshev and n_neighbours: 1 is 0.6005917159763313\n",
            "The accuracy of the KNN for metric: chebyshev and n_neighbours: 2 is 0.5857988165680473\n",
            "The accuracy of the KNN for metric: chebyshev and n_neighbours: 3 is 0.5621301775147929\n",
            "The accuracy of the KNN for metric: chebyshev and n_neighbours: 4 is 0.5532544378698225\n",
            "The accuracy of the KNN for metric: chebyshev and n_neighbours: 5 is 0.5118343195266272\n",
            "The accuracy of the KNN for metric: chebyshev and n_neighbours: 6 is 0.5207100591715976\n",
            "The accuracy of the KNN for metric: chebyshev and n_neighbours: 7 is 0.5088757396449705\n",
            "The accuracy of the KNN for metric: chebyshev and n_neighbours: 8 is 0.4970414201183432\n",
            "The accuracy of the KNN for metric: chebyshev and n_neighbours: 9 is 0.5118343195266272\n",
            "The accuracy of the KNN for metric: chebyshev and n_neighbours: 10 is 0.5\n",
            "The accuracy of the KNN for metric: chebyshev and n_neighbours: 11 is 0.5207100591715976\n",
            "The accuracy of the KNN for metric: chebyshev and n_neighbours: 12 is 0.5295857988165681\n",
            "The accuracy of the KNN for metric: chebyshev and n_neighbours: 13 is 0.4970414201183432\n",
            "The accuracy of the KNN for metric: chebyshev and n_neighbours: 14 is 0.5236686390532544\n",
            "The accuracy of the KNN for metric: chebyshev and n_neighbours: 15 is 0.514792899408284\n",
            "The accuracy of the KNN for metric: chebyshev and n_neighbours: 16 is 0.5177514792899408\n",
            "The accuracy of the KNN for metric: chebyshev and n_neighbours: 17 is 0.5088757396449705\n",
            "The accuracy of the KNN for metric: chebyshev and n_neighbours: 18 is 0.5295857988165681\n",
            "The accuracy of the KNN for metric: minkowski and n_neighbours: 1 is 0.6153846153846154\n",
            "The accuracy of the KNN for metric: minkowski and n_neighbours: 2 is 0.5473372781065089\n",
            "The accuracy of the KNN for metric: minkowski and n_neighbours: 3 is 0.5059171597633136\n",
            "The accuracy of the KNN for metric: minkowski and n_neighbours: 4 is 0.5384615384615384\n",
            "The accuracy of the KNN for metric: minkowski and n_neighbours: 5 is 0.48520710059171596\n",
            "The accuracy of the KNN for metric: minkowski and n_neighbours: 6 is 0.5\n",
            "The accuracy of the KNN for metric: minkowski and n_neighbours: 7 is 0.5236686390532544\n",
            "The accuracy of the KNN for metric: minkowski and n_neighbours: 8 is 0.5088757396449705\n",
            "The accuracy of the KNN for metric: minkowski and n_neighbours: 9 is 0.5236686390532544\n",
            "The accuracy of the KNN for metric: minkowski and n_neighbours: 10 is 0.5325443786982249\n",
            "The accuracy of the KNN for metric: minkowski and n_neighbours: 11 is 0.5473372781065089\n",
            "The accuracy of the KNN for metric: minkowski and n_neighbours: 12 is 0.5414201183431953\n",
            "The accuracy of the KNN for metric: minkowski and n_neighbours: 13 is 0.5325443786982249\n",
            "The accuracy of the KNN for metric: minkowski and n_neighbours: 14 is 0.5118343195266272\n",
            "The accuracy of the KNN for metric: minkowski and n_neighbours: 15 is 0.514792899408284\n",
            "The accuracy of the KNN for metric: minkowski and n_neighbours: 16 is 0.5177514792899408\n",
            "The accuracy of the KNN for metric: minkowski and n_neighbours: 17 is 0.514792899408284\n",
            "The accuracy of the KNN for metric: minkowski and n_neighbours: 18 is 0.5236686390532544\n"
          ],
          "name": "stdout"
        }
      ]
    }
  ]
}