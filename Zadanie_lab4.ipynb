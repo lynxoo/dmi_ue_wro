{
  "nbformat": 4,
  "nbformat_minor": 0,
  "metadata": {
    "colab": {
      "name": "Zadanie_lab4.ipynb",
      "provenance": [],
      "collapsed_sections": [],
      "include_colab_link": true
    },
    "kernelspec": {
      "name": "python3",
      "display_name": "Python 3"
    }
  },
  "cells": [
    {
      "cell_type": "markdown",
      "metadata": {
        "id": "view-in-github",
        "colab_type": "text"
      },
      "source": [
        "<a href=\"https://colab.research.google.com/github/lynxoo/dmi_ue_wro/blob/master/Zadanie_lab4.ipynb\" target=\"_parent\"><img src=\"https://colab.research.google.com/assets/colab-badge.svg\" alt=\"Open In Colab\"/></a>"
      ]
    },
    {
      "cell_type": "markdown",
      "metadata": {
        "id": "tnlmPncQX1FY",
        "colab_type": "text"
      },
      "source": [
        "Termin realizacji zadania: 02.07.2020\n",
        "\n",
        "Forma zadania: załącznik wysłany na anna.kula@ue.wroc.pl\n",
        "\n",
        "Zadanie do wykonania:\n",
        "\n",
        "Wzrorujac się na przykładzie dla zbioru irysów, proszę wykonać grupowanie dla zbioru:(https://raw.githubusercontent.com/aniku10/dataMining/master/seeds_dataset.csv) Seeds. \n",
        "\n",
        "Proszę zwrócić uwagę na separator, nagłówki kolumn itp.\n",
        "\n",
        "Opis zbioru:\n",
        "1. area A,\n",
        "2. perimeter P,\n",
        "3. compactness C = 4*pi*A/P^2,\n",
        "4. length of kernel,\n",
        "5. width of kernel,\n",
        "6. asymmetry coefficient\n",
        "7. length of kernel groove.\n",
        "8. Class: 1 - Kama, 2 - Rosa, 3 - Canadian\n",
        "\n",
        "\n",
        "\n"
      ]
    }
  ]
}