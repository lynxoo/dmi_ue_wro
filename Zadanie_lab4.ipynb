{
  "nbformat": 4,
  "nbformat_minor": 0,
  "metadata": {
    "colab": {
      "name": "Zadanie_lab4.ipynb",
      "provenance": [],
      "collapsed_sections": [],
      "include_colab_link": true
    },
    "kernelspec": {
      "name": "python3",
      "display_name": "Python 3"
    }
  },
  "cells": [
    {
      "cell_type": "markdown",
      "metadata": {
        "id": "view-in-github",
        "colab_type": "text"
      },
      "source": [
        "<a href=\"https://colab.research.google.com/github/lynxoo/dmi_ue_wro/blob/master/Zadanie_lab4.ipynb\" target=\"_parent\"><img src=\"https://colab.research.google.com/assets/colab-badge.svg\" alt=\"Open In Colab\"/></a>"
      ]
    },
    {
      "cell_type": "markdown",
      "metadata": {
        "id": "tnlmPncQX1FY",
        "colab_type": "text"
      },
      "source": [
        "Termin realizacji zadania: 02.07.2020\n",
        "\n",
        "Forma zadania: załącznik wysłany na anna.kula@ue.wroc.pl\n",
        "\n",
        "Zadanie do wykonania:\n",
        "\n",
        "Wzrorujac się na przykładzie dla zbioru irysów, proszę wykonać grupowanie dla zbioru:(https://raw.githubusercontent.com/aniku10/dataMining/master/seeds_dataset.csv) Seeds. \n",
        "\n",
        "Proszę zwrócić uwagę na separator, nagłówki kolumn itp.\n",
        "\n",
        "Opis zbioru:\n",
        "1. area A,\n",
        "2. perimeter P,\n",
        "3. compactness C = 4*pi*A/P^2,\n",
        "4. length of kernel,\n",
        "5. width of kernel,\n",
        "6. asymmetry coefficient\n",
        "7. length of kernel groove.\n",
        "8. Class: 1 - Kama, 2 - Rosa, 3 - Canadian\n",
        "\n",
        "\n",
        "\n"
      ]
    },
    {
      "cell_type": "code",
      "metadata": {
        "id": "MUtjvoAMfbY7",
        "colab_type": "code",
        "colab": {}
      },
      "source": [
        "import pandas as pd\n",
        "import numpy as np"
      ],
      "execution_count": 4,
      "outputs": []
    },
    {
      "cell_type": "markdown",
      "metadata": {
        "id": "iX_UgL65p-2l",
        "colab_type": "text"
      },
      "source": [
        "# Pobranie danych"
      ]
    },
    {
      "cell_type": "code",
      "metadata": {
        "id": "xHmUGx3pfGtk",
        "colab_type": "code",
        "colab": {
          "base_uri": "https://localhost:8080/",
          "height": 204
        },
        "outputId": "c5a0ae11-8c81-4291-ef8c-b01984294435"
      },
      "source": [
        "seeds = pd.read_csv(\"https://raw.githubusercontent.com/aniku10/dataMining/master/seeds_dataset.csv\", sep=';', header=None)\n",
        "seeds.head()"
      ],
      "execution_count": 5,
      "outputs": [
        {
          "output_type": "execute_result",
          "data": {
            "text/html": [
              "<div>\n",
              "<style scoped>\n",
              "    .dataframe tbody tr th:only-of-type {\n",
              "        vertical-align: middle;\n",
              "    }\n",
              "\n",
              "    .dataframe tbody tr th {\n",
              "        vertical-align: top;\n",
              "    }\n",
              "\n",
              "    .dataframe thead th {\n",
              "        text-align: right;\n",
              "    }\n",
              "</style>\n",
              "<table border=\"1\" class=\"dataframe\">\n",
              "  <thead>\n",
              "    <tr style=\"text-align: right;\">\n",
              "      <th></th>\n",
              "      <th>0</th>\n",
              "      <th>1</th>\n",
              "      <th>2</th>\n",
              "      <th>3</th>\n",
              "      <th>4</th>\n",
              "      <th>5</th>\n",
              "      <th>6</th>\n",
              "      <th>7</th>\n",
              "    </tr>\n",
              "  </thead>\n",
              "  <tbody>\n",
              "    <tr>\n",
              "      <th>0</th>\n",
              "      <td>15.26</td>\n",
              "      <td>14.84</td>\n",
              "      <td>0.8710</td>\n",
              "      <td>5.763</td>\n",
              "      <td>3.312</td>\n",
              "      <td>2.221</td>\n",
              "      <td>5.220</td>\n",
              "      <td>1</td>\n",
              "    </tr>\n",
              "    <tr>\n",
              "      <th>1</th>\n",
              "      <td>14.88</td>\n",
              "      <td>14.57</td>\n",
              "      <td>0.8811</td>\n",
              "      <td>5.554</td>\n",
              "      <td>3.333</td>\n",
              "      <td>1.018</td>\n",
              "      <td>4.956</td>\n",
              "      <td>1</td>\n",
              "    </tr>\n",
              "    <tr>\n",
              "      <th>2</th>\n",
              "      <td>14.29</td>\n",
              "      <td>14.09</td>\n",
              "      <td>0.9050</td>\n",
              "      <td>5.291</td>\n",
              "      <td>3.337</td>\n",
              "      <td>2.699</td>\n",
              "      <td>4.825</td>\n",
              "      <td>1</td>\n",
              "    </tr>\n",
              "    <tr>\n",
              "      <th>3</th>\n",
              "      <td>13.84</td>\n",
              "      <td>13.94</td>\n",
              "      <td>0.8955</td>\n",
              "      <td>5.324</td>\n",
              "      <td>3.379</td>\n",
              "      <td>2.259</td>\n",
              "      <td>4.805</td>\n",
              "      <td>1</td>\n",
              "    </tr>\n",
              "    <tr>\n",
              "      <th>4</th>\n",
              "      <td>16.14</td>\n",
              "      <td>14.99</td>\n",
              "      <td>0.9034</td>\n",
              "      <td>5.658</td>\n",
              "      <td>3.562</td>\n",
              "      <td>1.355</td>\n",
              "      <td>5.175</td>\n",
              "      <td>1</td>\n",
              "    </tr>\n",
              "  </tbody>\n",
              "</table>\n",
              "</div>"
            ],
            "text/plain": [
              "       0      1       2      3      4      5      6  7\n",
              "0  15.26  14.84  0.8710  5.763  3.312  2.221  5.220  1\n",
              "1  14.88  14.57  0.8811  5.554  3.333  1.018  4.956  1\n",
              "2  14.29  14.09  0.9050  5.291  3.337  2.699  4.825  1\n",
              "3  13.84  13.94  0.8955  5.324  3.379  2.259  4.805  1\n",
              "4  16.14  14.99  0.9034  5.658  3.562  1.355  5.175  1"
            ]
          },
          "metadata": {
            "tags": []
          },
          "execution_count": 5
        }
      ]
    },
    {
      "cell_type": "markdown",
      "metadata": {
        "id": "iPzoc_T0qD8O",
        "colab_type": "text"
      },
      "source": [
        "## Zmiana nazw kolumn i dyskretyzacja klas"
      ]
    },
    {
      "cell_type": "code",
      "metadata": {
        "id": "1cF5JnGuf3sr",
        "colab_type": "code",
        "colab": {
          "base_uri": "https://localhost:8080/",
          "height": 289
        },
        "outputId": "1f0b68ea-d319-4cfa-8609-51a3606c70a0"
      },
      "source": [
        "seeds.rename(\n",
        "    columns={\n",
        "        0: 'area',\n",
        "        1: 'perimeter',\n",
        "        2: 'compactness',\n",
        "        3: 'kernel_length',\n",
        "        4: 'kernel_width',\n",
        "        5: 'asymmetry_coefficient',\n",
        "        6: 'kernel_groove_length',\n",
        "        7: 'class' \n",
        "    }, \n",
        "    inplace=True\n",
        ")\n",
        "\n",
        "seeds['class'][seeds['class'] == 1] = 'Kama'\n",
        "seeds['class'][seeds['class'] == 2] = 'Rosa'\n",
        "seeds['class'][seeds['class'] == 3] = 'Canadian'\n",
        "\n",
        "seeds.head()"
      ],
      "execution_count": 6,
      "outputs": [
        {
          "output_type": "stream",
          "text": [
            "/usr/local/lib/python3.6/dist-packages/ipykernel_launcher.py:15: SettingWithCopyWarning: \n",
            "A value is trying to be set on a copy of a slice from a DataFrame\n",
            "\n",
            "See the caveats in the documentation: https://pandas.pydata.org/pandas-docs/stable/user_guide/indexing.html#returning-a-view-versus-a-copy\n",
            "  from ipykernel import kernelapp as app\n"
          ],
          "name": "stderr"
        },
        {
          "output_type": "execute_result",
          "data": {
            "text/html": [
              "<div>\n",
              "<style scoped>\n",
              "    .dataframe tbody tr th:only-of-type {\n",
              "        vertical-align: middle;\n",
              "    }\n",
              "\n",
              "    .dataframe tbody tr th {\n",
              "        vertical-align: top;\n",
              "    }\n",
              "\n",
              "    .dataframe thead th {\n",
              "        text-align: right;\n",
              "    }\n",
              "</style>\n",
              "<table border=\"1\" class=\"dataframe\">\n",
              "  <thead>\n",
              "    <tr style=\"text-align: right;\">\n",
              "      <th></th>\n",
              "      <th>area</th>\n",
              "      <th>perimeter</th>\n",
              "      <th>compactness</th>\n",
              "      <th>kernel_length</th>\n",
              "      <th>kernel_width</th>\n",
              "      <th>asymmetry_coefficient</th>\n",
              "      <th>kernel_groove_length</th>\n",
              "      <th>class</th>\n",
              "    </tr>\n",
              "  </thead>\n",
              "  <tbody>\n",
              "    <tr>\n",
              "      <th>0</th>\n",
              "      <td>15.26</td>\n",
              "      <td>14.84</td>\n",
              "      <td>0.8710</td>\n",
              "      <td>5.763</td>\n",
              "      <td>3.312</td>\n",
              "      <td>2.221</td>\n",
              "      <td>5.220</td>\n",
              "      <td>Kama</td>\n",
              "    </tr>\n",
              "    <tr>\n",
              "      <th>1</th>\n",
              "      <td>14.88</td>\n",
              "      <td>14.57</td>\n",
              "      <td>0.8811</td>\n",
              "      <td>5.554</td>\n",
              "      <td>3.333</td>\n",
              "      <td>1.018</td>\n",
              "      <td>4.956</td>\n",
              "      <td>Kama</td>\n",
              "    </tr>\n",
              "    <tr>\n",
              "      <th>2</th>\n",
              "      <td>14.29</td>\n",
              "      <td>14.09</td>\n",
              "      <td>0.9050</td>\n",
              "      <td>5.291</td>\n",
              "      <td>3.337</td>\n",
              "      <td>2.699</td>\n",
              "      <td>4.825</td>\n",
              "      <td>Kama</td>\n",
              "    </tr>\n",
              "    <tr>\n",
              "      <th>3</th>\n",
              "      <td>13.84</td>\n",
              "      <td>13.94</td>\n",
              "      <td>0.8955</td>\n",
              "      <td>5.324</td>\n",
              "      <td>3.379</td>\n",
              "      <td>2.259</td>\n",
              "      <td>4.805</td>\n",
              "      <td>Kama</td>\n",
              "    </tr>\n",
              "    <tr>\n",
              "      <th>4</th>\n",
              "      <td>16.14</td>\n",
              "      <td>14.99</td>\n",
              "      <td>0.9034</td>\n",
              "      <td>5.658</td>\n",
              "      <td>3.562</td>\n",
              "      <td>1.355</td>\n",
              "      <td>5.175</td>\n",
              "      <td>Kama</td>\n",
              "    </tr>\n",
              "  </tbody>\n",
              "</table>\n",
              "</div>"
            ],
            "text/plain": [
              "    area  perimeter  ...  kernel_groove_length  class\n",
              "0  15.26      14.84  ...                 5.220   Kama\n",
              "1  14.88      14.57  ...                 4.956   Kama\n",
              "2  14.29      14.09  ...                 4.825   Kama\n",
              "3  13.84      13.94  ...                 4.805   Kama\n",
              "4  16.14      14.99  ...                 5.175   Kama\n",
              "\n",
              "[5 rows x 8 columns]"
            ]
          },
          "metadata": {
            "tags": []
          },
          "execution_count": 6
        }
      ]
    },
    {
      "cell_type": "code",
      "metadata": {
        "id": "Bg0oBNFo7Kx7",
        "colab_type": "code",
        "colab": {
          "base_uri": "https://localhost:8080/",
          "height": 85
        },
        "outputId": "e5c84460-179f-44f4-c59a-1244dfe43487"
      },
      "source": [
        "seeds['class'].value_counts()"
      ],
      "execution_count": 7,
      "outputs": [
        {
          "output_type": "execute_result",
          "data": {
            "text/plain": [
              "Rosa        70\n",
              "Kama        70\n",
              "Canadian    69\n",
              "Name: class, dtype: int64"
            ]
          },
          "metadata": {
            "tags": []
          },
          "execution_count": 7
        }
      ]
    },
    {
      "cell_type": "markdown",
      "metadata": {
        "id": "pYhPswspqHPR",
        "colab_type": "text"
      },
      "source": [
        "## Weryfikacja danych zawartych w zbiorze"
      ]
    },
    {
      "cell_type": "code",
      "metadata": {
        "id": "CRUf4EGog2Bt",
        "colab_type": "code",
        "colab": {
          "base_uri": "https://localhost:8080/",
          "height": 272
        },
        "outputId": "9dca16dc-1eec-4a49-deeb-bb1caa177bd2"
      },
      "source": [
        "seeds.info()"
      ],
      "execution_count": 8,
      "outputs": [
        {
          "output_type": "stream",
          "text": [
            "<class 'pandas.core.frame.DataFrame'>\n",
            "RangeIndex: 209 entries, 0 to 208\n",
            "Data columns (total 8 columns):\n",
            " #   Column                 Non-Null Count  Dtype  \n",
            "---  ------                 --------------  -----  \n",
            " 0   area                   209 non-null    float64\n",
            " 1   perimeter              209 non-null    float64\n",
            " 2   compactness            209 non-null    float64\n",
            " 3   kernel_length          209 non-null    float64\n",
            " 4   kernel_width           209 non-null    float64\n",
            " 5   asymmetry_coefficient  209 non-null    float64\n",
            " 6   kernel_groove_length   209 non-null    float64\n",
            " 7   class                  209 non-null    object \n",
            "dtypes: float64(7), object(1)\n",
            "memory usage: 13.2+ KB\n"
          ],
          "name": "stdout"
        }
      ]
    },
    {
      "cell_type": "code",
      "metadata": {
        "id": "-0FqdfWqgyeQ",
        "colab_type": "code",
        "colab": {
          "base_uri": "https://localhost:8080/",
          "height": 297
        },
        "outputId": "0982a543-fa80-4e80-bf6d-dcfd95b8fe7f"
      },
      "source": [
        "seeds.describe()"
      ],
      "execution_count": 9,
      "outputs": [
        {
          "output_type": "execute_result",
          "data": {
            "text/html": [
              "<div>\n",
              "<style scoped>\n",
              "    .dataframe tbody tr th:only-of-type {\n",
              "        vertical-align: middle;\n",
              "    }\n",
              "\n",
              "    .dataframe tbody tr th {\n",
              "        vertical-align: top;\n",
              "    }\n",
              "\n",
              "    .dataframe thead th {\n",
              "        text-align: right;\n",
              "    }\n",
              "</style>\n",
              "<table border=\"1\" class=\"dataframe\">\n",
              "  <thead>\n",
              "    <tr style=\"text-align: right;\">\n",
              "      <th></th>\n",
              "      <th>area</th>\n",
              "      <th>perimeter</th>\n",
              "      <th>compactness</th>\n",
              "      <th>kernel_length</th>\n",
              "      <th>kernel_width</th>\n",
              "      <th>asymmetry_coefficient</th>\n",
              "      <th>kernel_groove_length</th>\n",
              "    </tr>\n",
              "  </thead>\n",
              "  <tbody>\n",
              "    <tr>\n",
              "      <th>count</th>\n",
              "      <td>209.000000</td>\n",
              "      <td>209.000000</td>\n",
              "      <td>209.000000</td>\n",
              "      <td>209.000000</td>\n",
              "      <td>209.000000</td>\n",
              "      <td>209.000000</td>\n",
              "      <td>209.000000</td>\n",
              "    </tr>\n",
              "    <tr>\n",
              "      <th>mean</th>\n",
              "      <td>14.859713</td>\n",
              "      <td>14.565120</td>\n",
              "      <td>0.871248</td>\n",
              "      <td>5.630378</td>\n",
              "      <td>3.259967</td>\n",
              "      <td>3.690934</td>\n",
              "      <td>5.409722</td>\n",
              "    </tr>\n",
              "    <tr>\n",
              "      <th>std</th>\n",
              "      <td>2.911306</td>\n",
              "      <td>1.306348</td>\n",
              "      <td>0.023408</td>\n",
              "      <td>0.443318</td>\n",
              "      <td>0.378104</td>\n",
              "      <td>1.501144</td>\n",
              "      <td>0.492076</td>\n",
              "    </tr>\n",
              "    <tr>\n",
              "      <th>min</th>\n",
              "      <td>10.590000</td>\n",
              "      <td>12.410000</td>\n",
              "      <td>0.808100</td>\n",
              "      <td>4.899000</td>\n",
              "      <td>2.630000</td>\n",
              "      <td>0.765100</td>\n",
              "      <td>4.519000</td>\n",
              "    </tr>\n",
              "    <tr>\n",
              "      <th>25%</th>\n",
              "      <td>12.260000</td>\n",
              "      <td>13.450000</td>\n",
              "      <td>0.857500</td>\n",
              "      <td>5.263000</td>\n",
              "      <td>2.941000</td>\n",
              "      <td>2.553000</td>\n",
              "      <td>5.045000</td>\n",
              "    </tr>\n",
              "    <tr>\n",
              "      <th>50%</th>\n",
              "      <td>14.370000</td>\n",
              "      <td>14.350000</td>\n",
              "      <td>0.873500</td>\n",
              "      <td>5.527000</td>\n",
              "      <td>3.242000</td>\n",
              "      <td>3.598000</td>\n",
              "      <td>5.224000</td>\n",
              "    </tr>\n",
              "    <tr>\n",
              "      <th>75%</th>\n",
              "      <td>17.320000</td>\n",
              "      <td>15.730000</td>\n",
              "      <td>0.887900</td>\n",
              "      <td>5.980000</td>\n",
              "      <td>3.562000</td>\n",
              "      <td>4.756000</td>\n",
              "      <td>5.877000</td>\n",
              "    </tr>\n",
              "    <tr>\n",
              "      <th>max</th>\n",
              "      <td>21.180000</td>\n",
              "      <td>17.250000</td>\n",
              "      <td>0.918300</td>\n",
              "      <td>6.675000</td>\n",
              "      <td>4.033000</td>\n",
              "      <td>8.456000</td>\n",
              "      <td>6.550000</td>\n",
              "    </tr>\n",
              "  </tbody>\n",
              "</table>\n",
              "</div>"
            ],
            "text/plain": [
              "             area   perimeter  ...  asymmetry_coefficient  kernel_groove_length\n",
              "count  209.000000  209.000000  ...             209.000000            209.000000\n",
              "mean    14.859713   14.565120  ...               3.690934              5.409722\n",
              "std      2.911306    1.306348  ...               1.501144              0.492076\n",
              "min     10.590000   12.410000  ...               0.765100              4.519000\n",
              "25%     12.260000   13.450000  ...               2.553000              5.045000\n",
              "50%     14.370000   14.350000  ...               3.598000              5.224000\n",
              "75%     17.320000   15.730000  ...               4.756000              5.877000\n",
              "max     21.180000   17.250000  ...               8.456000              6.550000\n",
              "\n",
              "[8 rows x 7 columns]"
            ]
          },
          "metadata": {
            "tags": []
          },
          "execution_count": 9
        }
      ]
    },
    {
      "cell_type": "markdown",
      "metadata": {
        "id": "olum9X3PqamR",
        "colab_type": "text"
      },
      "source": [
        "# Clustering"
      ]
    },
    {
      "cell_type": "markdown",
      "metadata": {
        "id": "P3V8LmwNrRaz",
        "colab_type": "text"
      },
      "source": [
        "## Przygotowanie danych"
      ]
    },
    {
      "cell_type": "code",
      "metadata": {
        "id": "fX9uxv_op6mO",
        "colab_type": "code",
        "colab": {}
      },
      "source": [
        "classes = seeds['class']\n",
        "samples = seeds.drop(['class'], axis=1)"
      ],
      "execution_count": 10,
      "outputs": []
    },
    {
      "cell_type": "code",
      "metadata": {
        "id": "ngxp6ixCrCPP",
        "colab_type": "code",
        "colab": {
          "base_uri": "https://localhost:8080/",
          "height": 119
        },
        "outputId": "fbacfbf3-f4c9-4d10-88f8-c467002ea47c"
      },
      "source": [
        "classes.head(5)"
      ],
      "execution_count": 11,
      "outputs": [
        {
          "output_type": "execute_result",
          "data": {
            "text/plain": [
              "0    Kama\n",
              "1    Kama\n",
              "2    Kama\n",
              "3    Kama\n",
              "4    Kama\n",
              "Name: class, dtype: object"
            ]
          },
          "metadata": {
            "tags": []
          },
          "execution_count": 11
        }
      ]
    },
    {
      "cell_type": "code",
      "metadata": {
        "id": "niEe2oGorIm4",
        "colab_type": "code",
        "colab": {
          "base_uri": "https://localhost:8080/",
          "height": 204
        },
        "outputId": "3a3dcc85-f945-406d-c86c-0028488f9255"
      },
      "source": [
        "samples.head(5)"
      ],
      "execution_count": 12,
      "outputs": [
        {
          "output_type": "execute_result",
          "data": {
            "text/html": [
              "<div>\n",
              "<style scoped>\n",
              "    .dataframe tbody tr th:only-of-type {\n",
              "        vertical-align: middle;\n",
              "    }\n",
              "\n",
              "    .dataframe tbody tr th {\n",
              "        vertical-align: top;\n",
              "    }\n",
              "\n",
              "    .dataframe thead th {\n",
              "        text-align: right;\n",
              "    }\n",
              "</style>\n",
              "<table border=\"1\" class=\"dataframe\">\n",
              "  <thead>\n",
              "    <tr style=\"text-align: right;\">\n",
              "      <th></th>\n",
              "      <th>area</th>\n",
              "      <th>perimeter</th>\n",
              "      <th>compactness</th>\n",
              "      <th>kernel_length</th>\n",
              "      <th>kernel_width</th>\n",
              "      <th>asymmetry_coefficient</th>\n",
              "      <th>kernel_groove_length</th>\n",
              "    </tr>\n",
              "  </thead>\n",
              "  <tbody>\n",
              "    <tr>\n",
              "      <th>0</th>\n",
              "      <td>15.26</td>\n",
              "      <td>14.84</td>\n",
              "      <td>0.8710</td>\n",
              "      <td>5.763</td>\n",
              "      <td>3.312</td>\n",
              "      <td>2.221</td>\n",
              "      <td>5.220</td>\n",
              "    </tr>\n",
              "    <tr>\n",
              "      <th>1</th>\n",
              "      <td>14.88</td>\n",
              "      <td>14.57</td>\n",
              "      <td>0.8811</td>\n",
              "      <td>5.554</td>\n",
              "      <td>3.333</td>\n",
              "      <td>1.018</td>\n",
              "      <td>4.956</td>\n",
              "    </tr>\n",
              "    <tr>\n",
              "      <th>2</th>\n",
              "      <td>14.29</td>\n",
              "      <td>14.09</td>\n",
              "      <td>0.9050</td>\n",
              "      <td>5.291</td>\n",
              "      <td>3.337</td>\n",
              "      <td>2.699</td>\n",
              "      <td>4.825</td>\n",
              "    </tr>\n",
              "    <tr>\n",
              "      <th>3</th>\n",
              "      <td>13.84</td>\n",
              "      <td>13.94</td>\n",
              "      <td>0.8955</td>\n",
              "      <td>5.324</td>\n",
              "      <td>3.379</td>\n",
              "      <td>2.259</td>\n",
              "      <td>4.805</td>\n",
              "    </tr>\n",
              "    <tr>\n",
              "      <th>4</th>\n",
              "      <td>16.14</td>\n",
              "      <td>14.99</td>\n",
              "      <td>0.9034</td>\n",
              "      <td>5.658</td>\n",
              "      <td>3.562</td>\n",
              "      <td>1.355</td>\n",
              "      <td>5.175</td>\n",
              "    </tr>\n",
              "  </tbody>\n",
              "</table>\n",
              "</div>"
            ],
            "text/plain": [
              "    area  perimeter  ...  asymmetry_coefficient  kernel_groove_length\n",
              "0  15.26      14.84  ...                  2.221                 5.220\n",
              "1  14.88      14.57  ...                  1.018                 4.956\n",
              "2  14.29      14.09  ...                  2.699                 4.825\n",
              "3  13.84      13.94  ...                  2.259                 4.805\n",
              "4  16.14      14.99  ...                  1.355                 5.175\n",
              "\n",
              "[5 rows x 7 columns]"
            ]
          },
          "metadata": {
            "tags": []
          },
          "execution_count": 12
        }
      ]
    },
    {
      "cell_type": "markdown",
      "metadata": {
        "id": "v89CC6B6EEiF",
        "colab_type": "text"
      },
      "source": [
        "## Wyświetlenie wartości inercji i określenie liczby klastrów"
      ]
    },
    {
      "cell_type": "code",
      "metadata": {
        "id": "A63zNpf5rLXM",
        "colab_type": "code",
        "colab": {
          "base_uri": "https://localhost:8080/",
          "height": 388
        },
        "outputId": "1907e8c5-e710-49fc-c67e-bafabcec8483"
      },
      "source": [
        "from sklearn.cluster import KMeans\n",
        "import matplotlib.pyplot as plt\n",
        "\n",
        "ks = range(1, 20)\n",
        "\n",
        "inertia_scores = []\n",
        "\n",
        "\n",
        "for k in ks:\n",
        "    model = KMeans(n_clusters = k)\n",
        "    model.fit(samples)\n",
        "    inertia_scores.append(model.inertia_)\n",
        "\n",
        "plt.rcParams[\"figure.figsize\"] = (6,6)\n",
        "plt.plot(ks, inertia_scores, '-o')\n",
        "plt.xlabel('number of clusters, k')\n",
        "plt.ylabel('inertia')\n",
        "plt.xticks(ks)\n",
        "plt.show()"
      ],
      "execution_count": 13,
      "outputs": [
        {
          "output_type": "display_data",
          "data": {
            "image/png": "[encoded data removed]",
            "text/plain": [
              "<Figure size 432x432 with 1 Axes>"
            ]
          },
          "metadata": {
            "tags": [],
            "needs_background": "light"
          }
        }
      ]
    },
    {
      "cell_type": "markdown",
      "metadata": {
        "id": "chlFv7H-uFLH",
        "colab_type": "text"
      },
      "source": [
        "Wartość inercji przestaje gwałtowanie spadać przy podziale na 3 klastry, co pokrywa się z liczbą klas występujących w zbiorze."
      ]
    },
    {
      "cell_type": "markdown",
      "metadata": {
        "id": "XV2_-9KK8D-2",
        "colab_type": "text"
      },
      "source": [
        "## Clustering na bazie Klasyfikatora KMeans"
      ]
    },
    {
      "cell_type": "markdown",
      "metadata": {
        "id": "mnDOqzrx5V-J",
        "colab_type": "text"
      },
      "source": [
        "### Uczenie modelu przy pomocy nieprzetworzonych danych"
      ]
    },
    {
      "cell_type": "code",
      "metadata": {
        "id": "SL-rezjmtUhA",
        "colab_type": "code",
        "colab": {
          "base_uri": "https://localhost:8080/",
          "height": 173
        },
        "outputId": "7ecb97bb-7a86-41b2-eccd-d422cad07747"
      },
      "source": [
        "model = KMeans(n_clusters=3)\n",
        "labels = model.fit_predict(samples)\n",
        "df = pd.DataFrame({'labels': labels, 'classes': classes})\n",
        "ct = pd.crosstab(df['labels'], df['classes'])\n",
        "ct"
      ],
      "execution_count": 14,
      "outputs": [
        {
          "output_type": "execute_result",
          "data": {
            "text/html": [
              "<div>\n",
              "<style scoped>\n",
              "    .dataframe tbody tr th:only-of-type {\n",
              "        vertical-align: middle;\n",
              "    }\n",
              "\n",
              "    .dataframe tbody tr th {\n",
              "        vertical-align: top;\n",
              "    }\n",
              "\n",
              "    .dataframe thead th {\n",
              "        text-align: right;\n",
              "    }\n",
              "</style>\n",
              "<table border=\"1\" class=\"dataframe\">\n",
              "  <thead>\n",
              "    <tr style=\"text-align: right;\">\n",
              "      <th>classes</th>\n",
              "      <th>Canadian</th>\n",
              "      <th>Kama</th>\n",
              "      <th>Rosa</th>\n",
              "    </tr>\n",
              "    <tr>\n",
              "      <th>labels</th>\n",
              "      <th></th>\n",
              "      <th></th>\n",
              "      <th></th>\n",
              "    </tr>\n",
              "  </thead>\n",
              "  <tbody>\n",
              "    <tr>\n",
              "      <th>0</th>\n",
              "      <td>2</td>\n",
              "      <td>60</td>\n",
              "      <td>10</td>\n",
              "    </tr>\n",
              "    <tr>\n",
              "      <th>1</th>\n",
              "      <td>0</td>\n",
              "      <td>1</td>\n",
              "      <td>60</td>\n",
              "    </tr>\n",
              "    <tr>\n",
              "      <th>2</th>\n",
              "      <td>67</td>\n",
              "      <td>9</td>\n",
              "      <td>0</td>\n",
              "    </tr>\n",
              "  </tbody>\n",
              "</table>\n",
              "</div>"
            ],
            "text/plain": [
              "classes  Canadian  Kama  Rosa\n",
              "labels                       \n",
              "0               2    60    10\n",
              "1               0     1    60\n",
              "2              67     9     0"
            ]
          },
          "metadata": {
            "tags": []
          },
          "execution_count": 14
        }
      ]
    },
    {
      "cell_type": "markdown",
      "metadata": {
        "id": "7OhG86VO5f0z",
        "colab_type": "text"
      },
      "source": [
        "### Uczenie modelu przy pomocy danych po skalowaniu"
      ]
    },
    {
      "cell_type": "code",
      "metadata": {
        "id": "7thD3MjgtwqA",
        "colab_type": "code",
        "colab": {
          "base_uri": "https://localhost:8080/",
          "height": 173
        },
        "outputId": "7623e759-cad7-4528-ebd5-123a47f87942"
      },
      "source": [
        "from sklearn.pipeline import make_pipeline\n",
        "from sklearn.preprocessing import StandardScaler\n",
        "\n",
        "scaler = StandardScaler()\n",
        "kmeans = KMeans(n_clusters = 3)\n",
        "pipeline = make_pipeline(scaler,kmeans)\n",
        "pipeline.fit(samples)\n",
        "labels = pipeline.predict(samples)\n",
        "df = pd.DataFrame({'labels': labels, 'classes': classes})\n",
        "ct = pd.crosstab(df['labels'], df['classes'])\n",
        "\n",
        "ct"
      ],
      "execution_count": 15,
      "outputs": [
        {
          "output_type": "execute_result",
          "data": {
            "text/html": [
              "<div>\n",
              "<style scoped>\n",
              "    .dataframe tbody tr th:only-of-type {\n",
              "        vertical-align: middle;\n",
              "    }\n",
              "\n",
              "    .dataframe tbody tr th {\n",
              "        vertical-align: top;\n",
              "    }\n",
              "\n",
              "    .dataframe thead th {\n",
              "        text-align: right;\n",
              "    }\n",
              "</style>\n",
              "<table border=\"1\" class=\"dataframe\">\n",
              "  <thead>\n",
              "    <tr style=\"text-align: right;\">\n",
              "      <th>classes</th>\n",
              "      <th>Canadian</th>\n",
              "      <th>Kama</th>\n",
              "      <th>Rosa</th>\n",
              "    </tr>\n",
              "    <tr>\n",
              "      <th>labels</th>\n",
              "      <th></th>\n",
              "      <th></th>\n",
              "      <th></th>\n",
              "    </tr>\n",
              "  </thead>\n",
              "  <tbody>\n",
              "    <tr>\n",
              "      <th>0</th>\n",
              "      <td>64</td>\n",
              "      <td>6</td>\n",
              "      <td>0</td>\n",
              "    </tr>\n",
              "    <tr>\n",
              "      <th>1</th>\n",
              "      <td>5</td>\n",
              "      <td>62</td>\n",
              "      <td>5</td>\n",
              "    </tr>\n",
              "    <tr>\n",
              "      <th>2</th>\n",
              "      <td>0</td>\n",
              "      <td>2</td>\n",
              "      <td>65</td>\n",
              "    </tr>\n",
              "  </tbody>\n",
              "</table>\n",
              "</div>"
            ],
            "text/plain": [
              "classes  Canadian  Kama  Rosa\n",
              "labels                       \n",
              "0              64     6     0\n",
              "1               5    62     5\n",
              "2               0     2    65"
            ]
          },
          "metadata": {
            "tags": []
          },
          "execution_count": 15
        }
      ]
    },
    {
      "cell_type": "markdown",
      "metadata": {
        "id": "tTpV8Z8oRXRt",
        "colab_type": "text"
      },
      "source": [
        "### Uczenie modelu przy pomocy danych po normalizacji"
      ]
    },
    {
      "cell_type": "code",
      "metadata": {
        "id": "0-2YN72RRViG",
        "colab_type": "code",
        "colab": {
          "base_uri": "https://localhost:8080/",
          "height": 173
        },
        "outputId": "93abaf7e-1817-484e-852c-eb2cf3cea6da"
      },
      "source": [
        "from sklearn.preprocessing import Normalizer\n",
        "\n",
        "normalizer = Normalizer()\n",
        "kmeans = KMeans(n_clusters = 3)\n",
        "pipeline = make_pipeline(normalizer, kmeans)\n",
        "pipeline.fit(samples)\n",
        "labels = pipeline.predict(samples)\n",
        "df = pd.DataFrame({'labels': labels, 'classes': classes})\n",
        "ct = pd.crosstab(df['labels'], df['classes'])\n",
        "\n",
        "ct"
      ],
      "execution_count": 35,
      "outputs": [
        {
          "output_type": "execute_result",
          "data": {
            "text/html": [
              "<div>\n",
              "<style scoped>\n",
              "    .dataframe tbody tr th:only-of-type {\n",
              "        vertical-align: middle;\n",
              "    }\n",
              "\n",
              "    .dataframe tbody tr th {\n",
              "        vertical-align: top;\n",
              "    }\n",
              "\n",
              "    .dataframe thead th {\n",
              "        text-align: right;\n",
              "    }\n",
              "</style>\n",
              "<table border=\"1\" class=\"dataframe\">\n",
              "  <thead>\n",
              "    <tr style=\"text-align: right;\">\n",
              "      <th>classes</th>\n",
              "      <th>Canadian</th>\n",
              "      <th>Kama</th>\n",
              "      <th>Rosa</th>\n",
              "    </tr>\n",
              "    <tr>\n",
              "      <th>labels</th>\n",
              "      <th></th>\n",
              "      <th></th>\n",
              "      <th></th>\n",
              "    </tr>\n",
              "  </thead>\n",
              "  <tbody>\n",
              "    <tr>\n",
              "      <th>0</th>\n",
              "      <td>5</td>\n",
              "      <td>22</td>\n",
              "      <td>38</td>\n",
              "    </tr>\n",
              "    <tr>\n",
              "      <th>1</th>\n",
              "      <td>4</td>\n",
              "      <td>45</td>\n",
              "      <td>32</td>\n",
              "    </tr>\n",
              "    <tr>\n",
              "      <th>2</th>\n",
              "      <td>60</td>\n",
              "      <td>3</td>\n",
              "      <td>0</td>\n",
              "    </tr>\n",
              "  </tbody>\n",
              "</table>\n",
              "</div>"
            ],
            "text/plain": [
              "classes  Canadian  Kama  Rosa\n",
              "labels                       \n",
              "0               5    22    38\n",
              "1               4    45    32\n",
              "2              60     3     0"
            ]
          },
          "metadata": {
            "tags": []
          },
          "execution_count": 35
        }
      ]
    },
    {
      "cell_type": "markdown",
      "metadata": {
        "id": "XqFpzaBH8RsU",
        "colab_type": "text"
      },
      "source": [
        "## Clustering przy pomocy algorytmu aglomeracyjnego"
      ]
    },
    {
      "cell_type": "code",
      "metadata": {
        "id": "L7LGFD3P8v1F",
        "colab_type": "code",
        "colab": {}
      },
      "source": [
        "from scipy.cluster.hierarchy import linkage, dendrogram\n",
        "import matplotlib.pyplot as plt"
      ],
      "execution_count": 19,
      "outputs": []
    },
    {
      "cell_type": "code",
      "metadata": {
        "id": "wDj5fm858Y7c",
        "colab_type": "code",
        "colab": {}
      },
      "source": [
        "def compute_dendrogram(method):\n",
        "  plt.rcParams[\"figure.figsize\"] = (30,10)\n",
        "  mergings = linkage(samples, method=method)\n",
        "  a_classes = np.array(classes)\n",
        "  dendrogram(mergings,\n",
        "            labels = a_classes,\n",
        "            leaf_rotation=90,\n",
        "            leaf_font_size=6,\n",
        "  )\n",
        "  plt.title(f\"Metoda {method}\")\n",
        "  plt.show()"
      ],
      "execution_count": 33,
      "outputs": []
    },
    {
      "cell_type": "markdown",
      "metadata": {
        "id": "YsfbAVQF-bWK",
        "colab_type": "text"
      },
      "source": [
        "### Dendrogram dla metody najdalszych sąsiadów"
      ]
    },
    {
      "cell_type": "code",
      "metadata": {
        "id": "jsLjcmR08_Af",
        "colab_type": "code",
        "colab": {
          "base_uri": "https://localhost:8080/",
          "height": 486
        },
        "outputId": "3ce7782c-3002-4a32-ef09-8f3ae003a11c"
      },
      "source": [
        "compute_dendrogram('complete')"
      ],
      "execution_count": 32,
      "outputs": [
        {
          "output_type": "display_data",
          "data": {
            "image/png": "[encoded data removed]",
            "text/plain": [
              "<Figure size 2160x720 with 1 Axes>"
            ]
          },
          "metadata": {
            "tags": [],
            "needs_background": "light"
          }
        }
      ]
    },
    {
      "cell_type": "markdown",
      "metadata": {
        "id": "TSFgmxt_-cBG",
        "colab_type": "text"
      },
      "source": [
        "### Dendrogram dla metody najbliższych sąsiadów"
      ]
    },
    {
      "cell_type": "code",
      "metadata": {
        "id": "1gTbS8zk9F5X",
        "colab_type": "code",
        "colab": {
          "base_uri": "https://localhost:8080/",
          "height": 473
        },
        "outputId": "7bb37417-830c-4304-eb58-6929918893f8"
      },
      "source": [
        "compute_dendrogram('single')"
      ],
      "execution_count": 28,
      "outputs": [
        {
          "output_type": "display_data",
          "data": {
            "image/png": "[encoded data removed]",
            "text/plain": [
              "<Figure size 2160x720 with 1 Axes>"
            ]
          },
          "metadata": {
            "tags": [],
            "needs_background": "light"
          }
        }
      ]
    },
    {
      "cell_type": "markdown",
      "metadata": {
        "id": "DBRRbQZS-cum",
        "colab_type": "text"
      },
      "source": [
        "### Dendrogram dla metody średnich"
      ]
    },
    {
      "cell_type": "code",
      "metadata": {
        "id": "v8wByNyz9JCH",
        "colab_type": "code",
        "colab": {
          "base_uri": "https://localhost:8080/",
          "height": 476
        },
        "outputId": "0352c414-1d05-4345-b652-e2269d4b06fd"
      },
      "source": [
        "compute_dendrogram('average')"
      ],
      "execution_count": 29,
      "outputs": [
        {
          "output_type": "display_data",
          "data": {
            "image/png": "[encoded data removed]",
            "text/plain": [
              "<Figure size 2160x720 with 1 Axes>"
            ]
          },
          "metadata": {
            "tags": [],
            "needs_background": "light"
          }
        }
      ]
    },
    {
      "cell_type": "markdown",
      "metadata": {
        "id": "OovEt3gS-dXl",
        "colab_type": "text"
      },
      "source": [
        "### Dendrogram dla metody Ward'a"
      ]
    },
    {
      "cell_type": "code",
      "metadata": {
        "id": "EE3iQIKp9dgQ",
        "colab_type": "code",
        "colab": {
          "base_uri": "https://localhost:8080/",
          "height": 474
        },
        "outputId": "e9199d02-1fbe-435d-b991-9a96dd07f011"
      },
      "source": [
        "compute_dendrogram('ward')"
      ],
      "execution_count": 30,
      "outputs": [
        {
          "output_type": "display_data",
          "data": {
            "image/png": "[encoded data removed]",
            "text/plain": [
              "<Figure size 2160x720 with 1 Axes>"
            ]
          },
          "metadata": {
            "tags": [],
            "needs_background": "light"
          }
        }
      ]
    },
    {
      "cell_type": "markdown",
      "metadata": {
        "id": "4ka0WowKB9oc",
        "colab_type": "text"
      },
      "source": [
        "Analizując powstałe dendrogramy najlepszym okazał się dendrogram wygenerowany przy pomocy metody najdalszych sąsiadów, gdyż tylko ta metoda podzieliła zbiór danych na 3 klastry. W przypadku metody Ward'a i średnich, algorytm zgrupował próbki tylko w 2 klastry, jednakże widoczny jest wyraźny podział na 3 grupy. Sugerując się oryginalnymi klasami próbek i wyraźnie zarysowanymi grupami, można nawet twierdzić, iż metody te zgrupowały dane dokładniej niż metoda najdalszych sąsiadów. Metoda najbliższych sąsiadów okazała się być najgorsza, grupując co prawda dane do 3 klas, jednakże z bardzo niską dokładnością, klasyfikując większość próbek do tej samej grupy.  "
      ]
    }
  ]
}